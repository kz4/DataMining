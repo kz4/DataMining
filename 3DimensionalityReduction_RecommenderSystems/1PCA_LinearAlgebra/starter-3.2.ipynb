{
 "cells": [
  {
   "cell_type": "markdown",
   "metadata": {},
   "source": [
    "# Do not change imports!"
   ]
  },
  {
   "cell_type": "code",
   "execution_count": 1,
   "metadata": {
    "collapsed": true
   },
   "outputs": [],
   "source": [
    "import numpy as np\n",
    "\n",
    "import sympy as sp\n",
    "sp.init_printing()"
   ]
  },
  {
   "cell_type": "markdown",
   "metadata": {},
   "source": [
    "# A. Solve 2x2 for Eigenvalues/Eigenvectors\n",
    "1. By hand, algebraically produce the characteristic equation of the matrix\n",
    "2. Use SymPi to solve for the eigenvalues\n",
    "3. Store the eigenvalues\n",
    "4. By hand, algebraically produce the relationship between eigenvector components\n",
    "5. Use SymPi to solve for the corresponding eigenvector spans\n",
    "6. Compare to NumPy"
   ]
  },
  {
   "cell_type": "code",
   "execution_count": 2,
   "metadata": {
    "collapsed": true
   },
   "outputs": [],
   "source": [
    "# Do not change!\n",
    "A2 = [[12, 3], [3, 4]]"
   ]
  },
  {
   "cell_type": "markdown",
   "metadata": {},
   "source": [
    "## A.1. Characteristic Equation\n",
    "$$ A \\vec{v} = \\lambda \\vec{v} $$\n",
    "$$ 0 = \\lambda \\vec{v} - A \\vec{v} $$\n",
    "$$ 0 = \\lambda \\mathcal{I} \\vec{v} - A \\vec{v} $$\n",
    "$$ 0 = (\\lambda \\mathcal{I} - A) \\vec{v} $$\n",
    "$$ \\det ( \\lambda \\mathcal{I} - A ) = 0 $$\n",
    "\n",
    "$$ \\det( \\begin{matrix} \n",
    "\\lambda - 12 & -3 \\\\\n",
    "-3 & \\lambda - 4 \n",
    "\\end{matrix} ) = 0 $$\n",
    "\n",
    "TODO: finish (produce a polynomial in $\\lambda$ equal to 0, showing all steps)\n",
    "$$ \\lambda ^{2} - 16 \\lambda + 48 - 9 = 0 $$\n",
    "$$ \\lambda ^{2} - 16 \\lambda + 39 = 0 $$"
   ]
  },
  {
   "cell_type": "markdown",
   "metadata": {},
   "source": [
    "## A.2 Eigenvalues via Symbolic Computation"
   ]
  },
  {
   "cell_type": "code",
   "execution_count": 3,
   "metadata": {
    "collapsed": true
   },
   "outputs": [],
   "source": [
    "# intentional misspelling, required\n",
    "l = sp.symbols('lamda')"
   ]
  },
  {
   "cell_type": "code",
   "execution_count": 4,
   "metadata": {},
   "outputs": [
    {
     "data": {
      "image/png": "[encoded data removed]",
      "text/latex": [
       "$$\\left\\{3, 13\\right\\}$$"
      ],
      "text/plain": [
       "{3, 13}"
      ]
     },
     "execution_count": 4,
     "metadata": {},
     "output_type": "execute_result"
    }
   ],
   "source": [
    "# TODO: use SymPy's solveset function to solve the equation you've found by hand\n",
    "sp.solveset(l**2 - 16*l + 39, l)"
   ]
  },
  {
   "cell_type": "markdown",
   "metadata": {},
   "source": [
    "### Or purely via SymPy ..."
   ]
  },
  {
   "cell_type": "code",
   "execution_count": 5,
   "metadata": {},
   "outputs": [
    {
     "data": {
      "image/png": "[encoded data removed]",
      "text/latex": [
       "$$\\operatorname{PurePoly}{\\left( \\lambda^{2} - 16 \\lambda + 39, \\lambda, domain=\\mathbb{Z} \\right)}$$"
      ],
      "text/plain": [
       "PurePoly(lamda**2 - 16*lamda + 39, lamda, domain='ZZ')"
      ]
     },
     "execution_count": 5,
     "metadata": {},
     "output_type": "execute_result"
    }
   ],
   "source": [
    "A2m = sp.Matrix(A2)\n",
    "\n",
    "# TODO: replace assignment using SymPy's charpoly function to reproduce the equation you derived above\n",
    "expr = A2m.charpoly(l)\n",
    "\n",
    "# print\n",
    "expr"
   ]
  },
  {
   "cell_type": "code",
   "execution_count": 6,
   "metadata": {},
   "outputs": [
    {
     "data": {
      "image/png": "[encoded data removed]",
      "text/latex": [
       "$$\\left(\\lambda - 13\\right) \\left(\\lambda - 3\\right)$$"
      ],
      "text/plain": [
       "(λ - 13)⋅(λ - 3)"
      ]
     },
     "execution_count": 6,
     "metadata": {},
     "output_type": "execute_result"
    }
   ],
   "source": [
    "# expression factored\n",
    "expr.factor()"
   ]
  },
  {
   "cell_type": "code",
   "execution_count": 7,
   "metadata": {},
   "outputs": [
    {
     "data": {
      "image/png": "[encoded data removed]",
      "text/latex": [
       "$$\\left \\{ 3 : 1, \\quad 13 : 1\\right \\}$$"
      ],
      "text/plain": [
       "{3: 1, 13: 1}"
      ]
     },
     "execution_count": 7,
     "metadata": {},
     "output_type": "execute_result"
    }
   ],
   "source": [
    "# eigenvalues!\n",
    "A2m.eigenvals()"
   ]
  },
  {
   "cell_type": "markdown",
   "metadata": {},
   "source": [
    "## A.3 Store Eigenvalues\n",
    "TODO: overwrite assignments (1=bigger, 2=smaller)\n",
    "\n",
    "?? just plug in the value from above??"
   ]
  },
  {
   "cell_type": "code",
   "execution_count": 8,
   "metadata": {
    "collapsed": true
   },
   "outputs": [],
   "source": [
    "l1 = 13\n",
    "l2 = 3"
   ]
  },
  {
   "cell_type": "markdown",
   "metadata": {},
   "source": [
    "## A.4 Eigenvectors by Hand\n",
    "One way to do it...\n",
    "\n",
    "$$ A \\vec{v} = \\lambda \\vec{v} $$\n",
    "$$ \\begin{pmatrix} \n",
    "12 & 3 \\\\\n",
    "3 & 4 \n",
    "\\end{pmatrix} \\begin{pmatrix}\n",
    "x \\\\\n",
    "y\n",
    "\\end{pmatrix} =\n",
    "\\lambda \n",
    "\\begin{pmatrix}\n",
    "x \\\\\n",
    "y\n",
    "\\end{pmatrix}\n",
    "$$\n",
    "\n",
    "$$ 12x + 3y = \\lambda x $$\n",
    "$$ 3x + 4y = \\lambda y $$\n",
    "\n",
    "### Eigenvector 1\n",
    "\n",
    "TODO: plug in first eigenvalue, solve\n",
    "$$ 12x + 3y = 13x $$\n",
    "$$ 3x + 4y = 13y $$\n",
    "\n",
    "$$ x = 3y $$\n",
    "\n",
    "$$ v_{l1} = \\begin{bmatrix}\n",
    "3\\\\ \n",
    "1\n",
    "\\end{bmatrix} $$\n",
    "\n",
    "### Eigenvector 2\n",
    "\n",
    "TODO: repeat for eigenvalue 2\n",
    "$$ 12x + 3y = 3x $$\n",
    "$$ 3x + 4y = 3y $$\n",
    "\n",
    "$$ y = -3x $$\n",
    "\n",
    "$$ v_{l2} = \\begin{bmatrix}\n",
    "1\\\\ \n",
    "-3\n",
    "\\end{bmatrix} $$"
   ]
  },
  {
   "cell_type": "markdown",
   "metadata": {},
   "source": [
    "## A.5 Eigenvectors via Symbolic Computation"
   ]
  },
  {
   "cell_type": "code",
   "execution_count": 9,
   "metadata": {
    "collapsed": true
   },
   "outputs": [],
   "source": [
    "x = sp.Symbol('x')\n",
    "y = sp.Symbol('y')\n",
    "\n",
    "eqn1 = 12*x + 3*y - l*x\n",
    "eqn2 = 3*x + 4*y - l*y"
   ]
  },
  {
   "cell_type": "code",
   "execution_count": 10,
   "metadata": {},
   "outputs": [
    {
     "data": {
      "image/png": "[encoded data removed]",
      "text/latex": [
       "$$\\left\\{\\left ( \\frac{x}{3}\\right )\\right\\}$$"
      ],
      "text/plain": [
       "⎧⎛x ⎞⎫\n",
       "⎨⎜─,⎟⎬\n",
       "⎩⎝3 ⎠⎭"
      ]
     },
     "execution_count": 10,
     "metadata": {},
     "output_type": "execute_result"
    }
   ],
   "source": [
    "# first eigenvector\n",
    "eqns1 = [eqn1.subs(l, l1), eqn2.subs(l, l1)]\n",
    "sp.linsolve(eqns1, y)"
   ]
  },
  {
   "cell_type": "code",
   "execution_count": 11,
   "metadata": {},
   "outputs": [
    {
     "data": {
      "image/png": "[encoded data removed]",
      "text/latex": [
       "$$\\left\\{\\left ( - 3 x\\right )\\right\\}$$"
      ],
      "text/plain": [
       "{(-3⋅x,)}"
      ]
     },
     "execution_count": 11,
     "metadata": {},
     "output_type": "execute_result"
    }
   ],
   "source": [
    "# TODO: repeat for second\n",
    "eqns2 = [eqn2.subs(l, l2), eqn2.subs(l, l2)]\n",
    "sp.linsolve(eqns2, y)"
   ]
  },
  {
   "cell_type": "markdown",
   "metadata": {},
   "source": [
    "### Or purely via SymPy ..."
   ]
  },
  {
   "cell_type": "code",
   "execution_count": 12,
   "metadata": {},
   "outputs": [
    {
     "data": {
      "text/latex": [
       "$$\\left [ \\left ( 3, \\quad 1, \\quad \\left [ \\left[\\begin{matrix}- \\frac{1}{3}\\\\1\\end{matrix}\\right]\\right ]\\right ), \\quad \\left ( 13, \\quad 1, \\quad \\left [ \\left[\\begin{matrix}3\\\\1\\end{matrix}\\right]\\right ]\\right )\\right ]$$"
      ],
      "text/plain": [
       "⎡⎛3, 1, ⎡⎡-1/3⎤⎤⎞, ⎛13, 1, ⎡⎡3⎤⎤⎞⎤\n",
       "⎢⎜      ⎢⎢    ⎥⎥⎟  ⎜       ⎢⎢ ⎥⎥⎟⎥\n",
       "⎣⎝      ⎣⎣ 1  ⎦⎦⎠  ⎝       ⎣⎣1⎦⎦⎠⎦"
      ]
     },
     "execution_count": 12,
     "metadata": {},
     "output_type": "execute_result"
    }
   ],
   "source": [
    "A2m.eigenvects()"
   ]
  },
  {
   "cell_type": "code",
   "execution_count": 13,
   "metadata": {},
   "outputs": [
    {
     "data": {
      "text/latex": [
       "$$\\left [ \\left[\\begin{matrix}3\\\\1\\end{matrix}\\right]\\right ]$$"
      ],
      "text/plain": [
       "⎡⎡3⎤⎤\n",
       "⎢⎢ ⎥⎥\n",
       "⎣⎣1⎦⎦"
      ]
     },
     "execution_count": 13,
     "metadata": {},
     "output_type": "execute_result"
    }
   ],
   "source": [
    "# Or...\n",
    "(l1*sp.eye(2) - A2m).nullspace()"
   ]
  },
  {
   "cell_type": "code",
   "execution_count": 14,
   "metadata": {},
   "outputs": [
    {
     "data": {
      "text/latex": [
       "$$\\left [ \\left[\\begin{matrix}- \\frac{1}{3}\\\\1\\end{matrix}\\right]\\right ]$$"
      ],
      "text/plain": [
       "⎡⎡-1/3⎤⎤\n",
       "⎢⎢    ⎥⎥\n",
       "⎣⎣ 1  ⎦⎦"
      ]
     },
     "execution_count": 14,
     "metadata": {},
     "output_type": "execute_result"
    }
   ],
   "source": [
    "(l2*sp.eye(2) - A2m).nullspace()"
   ]
  },
  {
   "cell_type": "markdown",
   "metadata": {},
   "source": [
    "TODO: Why did nullspace() return the eigenvectors?\n",
    "Because it is essentially setting the matrix to zero??"
   ]
  },
  {
   "cell_type": "markdown",
   "metadata": {},
   "source": [
    "## A.6 Numerical Computation via NumPy"
   ]
  },
  {
   "cell_type": "code",
   "execution_count": 15,
   "metadata": {},
   "outputs": [
    {
     "data": {
      "text/plain": [
       "(array([  3.,  13.]), array([[ 0.31622777, -0.9486833 ],\n",
       "        [-0.9486833 , -0.31622777]]))"
      ]
     },
     "execution_count": 15,
     "metadata": {},
     "output_type": "execute_result"
    }
   ],
   "source": [
    "np.linalg.eigh(A2)"
   ]
  },
  {
   "cell_type": "markdown",
   "metadata": {},
   "source": [
    "TODO: discuss the difference between outcomes, and when you might use one approach over another\n",
    "This one gives a decimal value. When you want an accurate value, use first approach, when you want an approximate, use this one"
   ]
  },
  {
   "cell_type": "markdown",
   "metadata": {},
   "source": [
    "# B. Solve 3x3 for Eigenvalues/Eigenvectors\n",
    "1. By hand, algebraically produce the characteristic equation of the matrix\n",
    "2. Use SymPi to solve for the eigenvalues\n",
    "3. Store the eigenvalues\n",
    "4. By hand, algebraically produce the relationship between eigenvector components\n",
    "5. Use SymPi to solve for the corresponding eigenvector spans\n",
    "6. Compute with NumPy"
   ]
  },
  {
   "cell_type": "code",
   "execution_count": 16,
   "metadata": {
    "collapsed": true
   },
   "outputs": [],
   "source": [
    "# Do not change!\n",
    "A3 = [[-1, 2, 2], [2, 2, -1], [2, -1, 2]]"
   ]
  },
  {
   "cell_type": "markdown",
   "metadata": {},
   "source": [
    "## B.1. Characteristic Equation\n",
    "$$ A \\vec{v} = \\lambda \\vec{v} $$\n",
    "\n",
    "TODO: finish (polynomial in $\\lambda$ equal to 0)"
   ]
  },
  {
   "cell_type": "markdown",
   "metadata": {},
   "source": [
    "## B.2 Eigenvalues via Symbolic Computation"
   ]
  },
  {
   "cell_type": "code",
   "execution_count": 17,
   "metadata": {
    "collapsed": true
   },
   "outputs": [],
   "source": [
    "# TODO: use SymPy's solveset function to solve the equation you've found symbolically"
   ]
  },
  {
   "cell_type": "markdown",
   "metadata": {},
   "source": [
    "### Or purely via SymPy ..."
   ]
  },
  {
   "cell_type": "code",
   "execution_count": 18,
   "metadata": {
    "collapsed": true
   },
   "outputs": [],
   "source": [
    "A3m = sp.Matrix(A3)\n",
    "\n",
    "# TODO: use SymPy's charpoly function to produce the equation you derived above\n",
    "expr = None\n",
    "\n",
    "# print\n",
    "expr"
   ]
  },
  {
   "cell_type": "code",
   "execution_count": 19,
   "metadata": {},
   "outputs": [
    {
     "ename": "AttributeError",
     "evalue": "'NoneType' object has no attribute 'factor'",
     "output_type": "error",
     "traceback": [
      "\u001b[0;31m---------------------------------------------------------------------------\u001b[0m",
      "\u001b[0;31mAttributeError\u001b[0m                            Traceback (most recent call last)",
      "\u001b[0;32m<ipython-input-19-8e4621bba7fc>\u001b[0m in \u001b[0;36m<module>\u001b[0;34m()\u001b[0m\n\u001b[0;32m----> 1\u001b[0;31m \u001b[0mexpr\u001b[0m\u001b[0;34m.\u001b[0m\u001b[0mfactor\u001b[0m\u001b[0;34m(\u001b[0m\u001b[0;34m)\u001b[0m\u001b[0;34m\u001b[0m\u001b[0m\n\u001b[0m",
      "\u001b[0;31mAttributeError\u001b[0m: 'NoneType' object has no attribute 'factor'"
     ]
    }
   ],
   "source": [
    "expr.factor()"
   ]
  },
  {
   "cell_type": "code",
   "execution_count": null,
   "metadata": {
    "collapsed": true
   },
   "outputs": [],
   "source": [
    "A3m.eigenvals()"
   ]
  },
  {
   "cell_type": "markdown",
   "metadata": {},
   "source": [
    "## B.3 Store Eigenvalues\n",
    "TODO: overwrite assignments (1=bigger, 2=smaller)"
   ]
  },
  {
   "cell_type": "code",
   "execution_count": null,
   "metadata": {
    "collapsed": true
   },
   "outputs": [],
   "source": [
    "l1 = None\n",
    "l2 = None"
   ]
  },
  {
   "cell_type": "markdown",
   "metadata": {},
   "source": [
    "## B.4 Eigenvectors by Hand\n",
    "Doing things slightly differently (works either way)...\n",
    "\n",
    "$$ \\begin{pmatrix} \n",
    "\\lambda +1 & -2 & -2 \\\\\n",
    "-2 & \\lambda - 2 & 1 \\\\\n",
    "-2 & 1 & \\lambda - 2\n",
    "\\end{pmatrix} \\vec{v} = 0 $$\n",
    "\n",
    "### Eigenvector 1\n",
    "\n",
    "$$ \\begin{pmatrix} \n",
    "4 & -2 & -2 \\\\\n",
    "-2 & 1 & 1 \\\\\n",
    "-2 & 1 & 1\n",
    "\\end{pmatrix} \\vec{v} = 0 $$\n",
    "\n",
    "RREF: \n",
    "* ([2] and [3] * 2 + [1])\n",
    "\n",
    "$$ \\begin{pmatrix} \n",
    "4 & -2 & -2 \\\\\n",
    "0 & 0 & 0 \\\\\n",
    "0 & 0 & 0\n",
    "\\end{pmatrix} \\begin{pmatrix} \n",
    "x \\\\\n",
    "y \\\\\n",
    "z\n",
    "\\end{pmatrix} = 0 $$\n",
    "\n",
    "$$ 4x - 2y - 2z = 0 $$\n",
    "$$ x = \\frac{y}{2} + \\frac{z}{2} $$\n",
    "\n",
    "### Eigenvector 2\n",
    "\n",
    "TODO: repeat for eigenvalue 2"
   ]
  },
  {
   "cell_type": "markdown",
   "metadata": {},
   "source": [
    "## B.5 Eigenvectors via Symbolic Computation"
   ]
  },
  {
   "cell_type": "code",
   "execution_count": null,
   "metadata": {
    "collapsed": true
   },
   "outputs": [],
   "source": [
    "z = sp.Symbol('z')\n",
    "\n",
    "b = sp.zeros(3,1)\n",
    "b"
   ]
  },
  {
   "cell_type": "code",
   "execution_count": null,
   "metadata": {
    "collapsed": true
   },
   "outputs": [],
   "source": [
    "A3l = l*sp.eye(3) - A3m\n",
    "A3l"
   ]
  },
  {
   "cell_type": "markdown",
   "metadata": {},
   "source": [
    "### First Eigenvector"
   ]
  },
  {
   "cell_type": "code",
   "execution_count": null,
   "metadata": {
    "collapsed": true
   },
   "outputs": [],
   "source": [
    "A3l.subs(l, l1)"
   ]
  },
  {
   "cell_type": "code",
   "execution_count": null,
   "metadata": {
    "collapsed": true
   },
   "outputs": [],
   "source": [
    "A3l.subs(l, l1).rref()"
   ]
  },
  {
   "cell_type": "code",
   "execution_count": null,
   "metadata": {
    "collapsed": true
   },
   "outputs": [],
   "source": [
    "sp.linsolve((A3l.subs(l, l1), b), [x, y, z])"
   ]
  },
  {
   "cell_type": "markdown",
   "metadata": {},
   "source": [
    "### Second Eigenvector"
   ]
  },
  {
   "cell_type": "code",
   "execution_count": null,
   "metadata": {
    "collapsed": true
   },
   "outputs": [],
   "source": [
    "# TODO: repeat substitution for second eigenvalue"
   ]
  },
  {
   "cell_type": "code",
   "execution_count": null,
   "metadata": {
    "collapsed": true
   },
   "outputs": [],
   "source": [
    "# TODO: repeat RREF for second eigenvalue"
   ]
  },
  {
   "cell_type": "code",
   "execution_count": null,
   "metadata": {
    "collapsed": true
   },
   "outputs": [],
   "source": [
    "# TODO: repeat linear solve for second eigenvalue"
   ]
  },
  {
   "cell_type": "markdown",
   "metadata": {},
   "source": [
    "## B.6 Numerical Computation via NumPy"
   ]
  },
  {
   "cell_type": "code",
   "execution_count": null,
   "metadata": {
    "collapsed": true
   },
   "outputs": [],
   "source": [
    "np.linalg.eigh(A3)"
   ]
  }
 ],
 "metadata": {
  "kernelspec": {
   "display_name": "Python 3",
   "language": "python",
   "name": "python3"
  },
  "language_info": {
   "codemirror_mode": {
    "name": "ipython",
    "version": 3
   },
   "file_extension": ".py",
   "mimetype": "text/x-python",
   "name": "python",
   "nbconvert_exporter": "python",
   "pygments_lexer": "ipython3",
   "version": "3.6.1"
  }
 },
 "nbformat": 4,
 "nbformat_minor": 2
}
