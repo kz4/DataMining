{
 "cells": [
  {
   "cell_type": "markdown",
   "metadata": {},
   "source": [
    "# Do not change imports"
   ]
  },
  {
   "cell_type": "code",
   "execution_count": 1,
   "metadata": {
    "collapsed": true
   },
   "outputs": [],
   "source": [
    "import pandas as pd\n",
    "import numpy as np\n",
    "from scipy.sparse.linalg import svds\n",
    "\n",
    "from sklearn.metrics import mean_squared_error as mse\n",
    "from sklearn.metrics.pairwise import cosine_similarity\n",
    "\n",
    "from urllib.parse import urljoin\n",
    "import itertools\n",
    "import random\n",
    "\n",
    "import matplotlib.pyplot as plt\n",
    "%matplotlib inline"
   ]
  },
  {
   "cell_type": "markdown",
   "metadata": {},
   "source": [
    "# A. MovieLens 100K Dataset: EDA via Pandas\n",
    "Read the README (https://grouplens.org/datasets/movielens/100k/)"
   ]
  },
  {
   "cell_type": "code",
   "execution_count": 2,
   "metadata": {
    "collapsed": true
   },
   "outputs": [],
   "source": [
    "ML_100k_BASE_URL = 'http://files.grouplens.org/datasets/movielens/ml-100k/'\n",
    "\n",
    "def movielens_url(fname):\n",
    "    return urljoin(ML_100k_BASE_URL, fname)"
   ]
  },
  {
   "cell_type": "markdown",
   "metadata": {},
   "source": [
    "## A.1. Read Genres"
   ]
  },
  {
   "cell_type": "code",
   "execution_count": 3,
   "metadata": {},
   "outputs": [
    {
     "data": {
      "text/html": [
       "<div>\n",
       "<style>\n",
       "    .dataframe thead tr:only-child th {\n",
       "        text-align: right;\n",
       "    }\n",
       "\n",
       "    .dataframe thead th {\n",
       "        text-align: left;\n",
       "    }\n",
       "\n",
       "    .dataframe tbody tr th {\n",
       "        vertical-align: top;\n",
       "    }\n",
       "</style>\n",
       "<table border=\"1\" class=\"dataframe\">\n",
       "  <thead>\n",
       "    <tr style=\"text-align: right;\">\n",
       "      <th></th>\n",
       "      <th>genre</th>\n",
       "      <th>genre_id</th>\n",
       "    </tr>\n",
       "  </thead>\n",
       "  <tbody>\n",
       "    <tr>\n",
       "      <th>0</th>\n",
       "      <td>unknown</td>\n",
       "      <td>0</td>\n",
       "    </tr>\n",
       "    <tr>\n",
       "      <th>1</th>\n",
       "      <td>Action</td>\n",
       "      <td>1</td>\n",
       "    </tr>\n",
       "    <tr>\n",
       "      <th>2</th>\n",
       "      <td>Adventure</td>\n",
       "      <td>2</td>\n",
       "    </tr>\n",
       "    <tr>\n",
       "      <th>3</th>\n",
       "      <td>Animation</td>\n",
       "      <td>3</td>\n",
       "    </tr>\n",
       "    <tr>\n",
       "      <th>4</th>\n",
       "      <td>Children's</td>\n",
       "      <td>4</td>\n",
       "    </tr>\n",
       "    <tr>\n",
       "      <th>5</th>\n",
       "      <td>Comedy</td>\n",
       "      <td>5</td>\n",
       "    </tr>\n",
       "    <tr>\n",
       "      <th>6</th>\n",
       "      <td>Crime</td>\n",
       "      <td>6</td>\n",
       "    </tr>\n",
       "    <tr>\n",
       "      <th>7</th>\n",
       "      <td>Documentary</td>\n",
       "      <td>7</td>\n",
       "    </tr>\n",
       "    <tr>\n",
       "      <th>8</th>\n",
       "      <td>Drama</td>\n",
       "      <td>8</td>\n",
       "    </tr>\n",
       "    <tr>\n",
       "      <th>9</th>\n",
       "      <td>Fantasy</td>\n",
       "      <td>9</td>\n",
       "    </tr>\n",
       "    <tr>\n",
       "      <th>10</th>\n",
       "      <td>Film-Noir</td>\n",
       "      <td>10</td>\n",
       "    </tr>\n",
       "    <tr>\n",
       "      <th>11</th>\n",
       "      <td>Horror</td>\n",
       "      <td>11</td>\n",
       "    </tr>\n",
       "    <tr>\n",
       "      <th>12</th>\n",
       "      <td>Musical</td>\n",
       "      <td>12</td>\n",
       "    </tr>\n",
       "    <tr>\n",
       "      <th>13</th>\n",
       "      <td>Mystery</td>\n",
       "      <td>13</td>\n",
       "    </tr>\n",
       "    <tr>\n",
       "      <th>14</th>\n",
       "      <td>Romance</td>\n",
       "      <td>14</td>\n",
       "    </tr>\n",
       "    <tr>\n",
       "      <th>15</th>\n",
       "      <td>Sci-Fi</td>\n",
       "      <td>15</td>\n",
       "    </tr>\n",
       "    <tr>\n",
       "      <th>16</th>\n",
       "      <td>Thriller</td>\n",
       "      <td>16</td>\n",
       "    </tr>\n",
       "    <tr>\n",
       "      <th>17</th>\n",
       "      <td>War</td>\n",
       "      <td>17</td>\n",
       "    </tr>\n",
       "    <tr>\n",
       "      <th>18</th>\n",
       "      <td>Western</td>\n",
       "      <td>18</td>\n",
       "    </tr>\n",
       "  </tbody>\n",
       "</table>\n",
       "</div>"
      ],
      "text/plain": [
       "          genre  genre_id\n",
       "0       unknown         0\n",
       "1        Action         1\n",
       "2     Adventure         2\n",
       "3     Animation         3\n",
       "4    Children's         4\n",
       "5        Comedy         5\n",
       "6         Crime         6\n",
       "7   Documentary         7\n",
       "8         Drama         8\n",
       "9       Fantasy         9\n",
       "10    Film-Noir        10\n",
       "11       Horror        11\n",
       "12      Musical        12\n",
       "13      Mystery        13\n",
       "14      Romance        14\n",
       "15       Sci-Fi        15\n",
       "16     Thriller        16\n",
       "17          War        17\n",
       "18      Western        18"
      ]
     },
     "execution_count": 3,
     "metadata": {},
     "output_type": "execute_result"
    }
   ],
   "source": [
    "# names of the columns - see README, u.genre\n",
    "genre_cols = ['genre', 'genre_id']\n",
    "\n",
    "genres = pd.read_csv(movielens_url('u.genre'), sep='|', names=genre_cols)\n",
    "\n",
    "genres"
   ]
  },
  {
   "cell_type": "markdown",
   "metadata": {},
   "source": [
    "## A.2. Read Users"
   ]
  },
  {
   "cell_type": "code",
   "execution_count": 4,
   "metadata": {},
   "outputs": [
    {
     "name": "stdout",
     "output_type": "stream",
     "text": [
      "<class 'pandas.core.frame.DataFrame'>\n",
      "RangeIndex: 943 entries, 0 to 942\n",
      "Data columns (total 5 columns):\n",
      "user_id       943 non-null int64\n",
      "age           943 non-null int64\n",
      "sex           943 non-null object\n",
      "occupation    943 non-null object\n",
      "zip_code      943 non-null object\n",
      "dtypes: int64(2), object(3)\n",
      "memory usage: 36.9+ KB\n"
     ]
    }
   ],
   "source": [
    "user_cols = ['user_id', 'age', 'sex', 'occupation', 'zip_code']\n",
    "\n",
    "# read users from u.user\n",
    "users = pd.read_csv(movielens_url('u.user'), sep='|', names=user_cols)\n",
    "\n",
    "users.info()"
   ]
  },
  {
   "cell_type": "markdown",
   "metadata": {},
   "source": [
    "## A.3. Read Movies"
   ]
  },
  {
   "cell_type": "code",
   "execution_count": 5,
   "metadata": {},
   "outputs": [
    {
     "name": "stdout",
     "output_type": "stream",
     "text": [
      "['movie_id', 'movie_title', 'release_date', 'video_release_date', 'IMDb_URL', 'unknown', 'Action', 'Adventure', 'Animation', \"Children's\", 'Comedy', 'Crime', 'Documentary', 'Drama', 'Fantasy', 'Film-Noir', 'Horror', 'Musical', 'Mystery', 'Romance', 'Sci-Fi', 'Thriller', 'War', 'Western']\n",
      "<class 'pandas.core.frame.DataFrame'>\n",
      "RangeIndex: 1682 entries, 0 to 1681\n",
      "Data columns (total 24 columns):\n",
      "movie_id              1682 non-null int64\n",
      "movie_title           1682 non-null object\n",
      "release_date          1681 non-null object\n",
      "video_release_date    0 non-null float64\n",
      "IMDb_URL              1679 non-null object\n",
      "unknown               1682 non-null int64\n",
      "Action                1682 non-null int64\n",
      "Adventure             1682 non-null int64\n",
      "Animation             1682 non-null int64\n",
      "Children's            1682 non-null int64\n",
      "Comedy                1682 non-null int64\n",
      "Crime                 1682 non-null int64\n",
      "Documentary           1682 non-null int64\n",
      "Drama                 1682 non-null int64\n",
      "Fantasy               1682 non-null int64\n",
      "Film-Noir             1682 non-null int64\n",
      "Horror                1682 non-null int64\n",
      "Musical               1682 non-null int64\n",
      "Mystery               1682 non-null int64\n",
      "Romance               1682 non-null int64\n",
      "Sci-Fi                1682 non-null int64\n",
      "Thriller              1682 non-null int64\n",
      "War                   1682 non-null int64\n",
      "Western               1682 non-null int64\n",
      "dtypes: float64(1), int64(20), object(3)\n",
      "memory usage: 315.5+ KB\n"
     ]
    }
   ],
   "source": [
    "# Be lazy - let the genre table tell you the last set of column names\n",
    "movie_cols = ['movie_id','movie_title','release_date','video_release_date','IMDb_URL'] + [g for g in genres.sort_values(by='genre_id')['genre']]\n",
    "print(movie_cols)\n",
    "# read movies from u.item\n",
    "movies = pd.read_csv(movielens_url('u.item'), sep='|', names=movie_cols, encoding='latin-1')\n",
    "\n",
    "movies.info()"
   ]
  },
  {
   "cell_type": "code",
   "execution_count": 6,
   "metadata": {},
   "outputs": [
    {
     "data": {
      "text/plain": [
       "266"
      ]
     },
     "execution_count": 6,
     "metadata": {},
     "output_type": "execute_result"
    }
   ],
   "source": [
    "# Interesting... find the row with a null release_date!\n",
    "movies.index[pd.isnull(movies['release_date'])][0]"
   ]
  },
  {
   "cell_type": "code",
   "execution_count": 7,
   "metadata": {},
   "outputs": [
    {
     "data": {
      "text/plain": [
       "Int64Index([], dtype='int64')"
      ]
     },
     "execution_count": 7,
     "metadata": {},
     "output_type": "execute_result"
    }
   ],
   "source": [
    "# assign movie_id (to check/clean up ratings later)\n",
    "bad_row_id = 267\n",
    "\n",
    "# drop the row (in place!)\n",
    "movies.drop(movies.loc[pd.isnull(movies.release_date)].index, inplace=True)\n",
    "\n",
    "# confirm it's gone\n",
    "movies.index[pd.isnull(movies['release_date'])]"
   ]
  },
  {
   "cell_type": "code",
   "execution_count": 8,
   "metadata": {},
   "outputs": [
    {
     "data": {
      "text/plain": [
       "Int64Index([1357, 1358], dtype='int64')"
      ]
     },
     "execution_count": 8,
     "metadata": {},
     "output_type": "execute_result"
    }
   ],
   "source": [
    "# output a table including only the movies with null IMDB urls\n",
    "movies.index[pd.isnull(movies['IMDb_URL'])]"
   ]
  },
  {
   "cell_type": "code",
   "execution_count": 9,
   "metadata": {},
   "outputs": [
    {
     "data": {
      "text/plain": [
       "movie_id                                1358\n",
       "movie_title           The Deadly Cure (1996)\n",
       "release_date                     16-Sep-1996\n",
       "video_release_date                       NaN\n",
       "IMDb_URL                                 NaN\n",
       "unknown                                    0\n",
       "Action                                     1\n",
       "Adventure                                  0\n",
       "Animation                                  0\n",
       "Children's                                 0\n",
       "Comedy                                     0\n",
       "Crime                                      0\n",
       "Documentary                                0\n",
       "Drama                                      0\n",
       "Fantasy                                    0\n",
       "Film-Noir                                  0\n",
       "Horror                                     0\n",
       "Musical                                    0\n",
       "Mystery                                    0\n",
       "Romance                                    0\n",
       "Sci-Fi                                     0\n",
       "Thriller                                   0\n",
       "War                                        0\n",
       "Western                                    0\n",
       "Name: 1357, dtype: object"
      ]
     },
     "execution_count": 9,
     "metadata": {},
     "output_type": "execute_result"
    }
   ],
   "source": [
    "# output all the fields of the first row\n",
    "movies.loc[1357]"
   ]
  },
  {
   "cell_type": "markdown",
   "metadata": {},
   "source": [
    "Try finding this movie with Google (it does exist) - what is special/different about it?\n",
    "Answer: It's a TV series"
   ]
  },
  {
   "cell_type": "code",
   "execution_count": 10,
   "metadata": {},
   "outputs": [
    {
     "data": {
      "text/plain": [
       "movie_id                               1359\n",
       "movie_title           Boys in Venice (1996)\n",
       "release_date                    24-Sep-1996\n",
       "video_release_date                      NaN\n",
       "IMDb_URL                                NaN\n",
       "unknown                                   0\n",
       "Action                                    0\n",
       "Adventure                                 0\n",
       "Animation                                 0\n",
       "Children's                                0\n",
       "Comedy                                    0\n",
       "Crime                                     0\n",
       "Documentary                               0\n",
       "Drama                                     1\n",
       "Fantasy                                   0\n",
       "Film-Noir                                 0\n",
       "Horror                                    0\n",
       "Musical                                   0\n",
       "Mystery                                   0\n",
       "Romance                                   0\n",
       "Sci-Fi                                    0\n",
       "Thriller                                  0\n",
       "War                                       0\n",
       "Western                                   0\n",
       "Name: 1358, dtype: object"
      ]
     },
     "execution_count": 10,
     "metadata": {},
     "output_type": "execute_result"
    }
   ],
   "source": [
    "# output all the fields of the second row\n",
    "movies.loc[1358]"
   ]
  },
  {
   "cell_type": "markdown",
   "metadata": {},
   "source": [
    "Try finding this movie with Google - comment on the likely name/origin of this movie\n",
    "Answer: According to IMDB, it's either The Boys of Venice (1978) or Boys in Love (1996)"
   ]
  },
  {
   "cell_type": "code",
   "execution_count": 11,
   "metadata": {},
   "outputs": [
    {
     "data": {
      "text/plain": [
       "1372"
      ]
     },
     "execution_count": 11,
     "metadata": {},
     "output_type": "execute_result"
    }
   ],
   "source": [
    "# there is one movie with an unknown genre - what is it?\n",
    "movies.index[movies['unknown'] == 1][0]"
   ]
  },
  {
   "cell_type": "markdown",
   "metadata": {},
   "source": [
    "Find this movie using Google - what is special about it? what would you indicate as its genre?\n",
    "Answer: The genre should be comedy"
   ]
  },
  {
   "cell_type": "code",
   "execution_count": 12,
   "metadata": {},
   "outputs": [
    {
     "data": {
      "text/html": [
       "<div>\n",
       "<style>\n",
       "    .dataframe thead tr:only-child th {\n",
       "        text-align: right;\n",
       "    }\n",
       "\n",
       "    .dataframe thead th {\n",
       "        text-align: left;\n",
       "    }\n",
       "\n",
       "    .dataframe tbody tr th {\n",
       "        vertical-align: top;\n",
       "    }\n",
       "</style>\n",
       "<table border=\"1\" class=\"dataframe\">\n",
       "  <thead>\n",
       "    <tr style=\"text-align: right;\">\n",
       "      <th></th>\n",
       "      <th>movie_id</th>\n",
       "      <th>movie_title</th>\n",
       "      <th>release_date</th>\n",
       "      <th>unknown</th>\n",
       "      <th>Action</th>\n",
       "      <th>Adventure</th>\n",
       "      <th>Animation</th>\n",
       "      <th>Children's</th>\n",
       "      <th>Comedy</th>\n",
       "      <th>Crime</th>\n",
       "      <th>...</th>\n",
       "      <th>Fantasy</th>\n",
       "      <th>Film-Noir</th>\n",
       "      <th>Horror</th>\n",
       "      <th>Musical</th>\n",
       "      <th>Mystery</th>\n",
       "      <th>Romance</th>\n",
       "      <th>Sci-Fi</th>\n",
       "      <th>Thriller</th>\n",
       "      <th>War</th>\n",
       "      <th>Western</th>\n",
       "    </tr>\n",
       "  </thead>\n",
       "  <tbody>\n",
       "    <tr>\n",
       "      <th>0</th>\n",
       "      <td>1</td>\n",
       "      <td>Toy Story (1995)</td>\n",
       "      <td>01-Jan-1995</td>\n",
       "      <td>0</td>\n",
       "      <td>0</td>\n",
       "      <td>0</td>\n",
       "      <td>1</td>\n",
       "      <td>1</td>\n",
       "      <td>1</td>\n",
       "      <td>0</td>\n",
       "      <td>...</td>\n",
       "      <td>0</td>\n",
       "      <td>0</td>\n",
       "      <td>0</td>\n",
       "      <td>0</td>\n",
       "      <td>0</td>\n",
       "      <td>0</td>\n",
       "      <td>0</td>\n",
       "      <td>0</td>\n",
       "      <td>0</td>\n",
       "      <td>0</td>\n",
       "    </tr>\n",
       "    <tr>\n",
       "      <th>1</th>\n",
       "      <td>2</td>\n",
       "      <td>GoldenEye (1995)</td>\n",
       "      <td>01-Jan-1995</td>\n",
       "      <td>0</td>\n",
       "      <td>1</td>\n",
       "      <td>1</td>\n",
       "      <td>0</td>\n",
       "      <td>0</td>\n",
       "      <td>0</td>\n",
       "      <td>0</td>\n",
       "      <td>...</td>\n",
       "      <td>0</td>\n",
       "      <td>0</td>\n",
       "      <td>0</td>\n",
       "      <td>0</td>\n",
       "      <td>0</td>\n",
       "      <td>0</td>\n",
       "      <td>0</td>\n",
       "      <td>1</td>\n",
       "      <td>0</td>\n",
       "      <td>0</td>\n",
       "    </tr>\n",
       "    <tr>\n",
       "      <th>2</th>\n",
       "      <td>3</td>\n",
       "      <td>Four Rooms (1995)</td>\n",
       "      <td>01-Jan-1995</td>\n",
       "      <td>0</td>\n",
       "      <td>0</td>\n",
       "      <td>0</td>\n",
       "      <td>0</td>\n",
       "      <td>0</td>\n",
       "      <td>0</td>\n",
       "      <td>0</td>\n",
       "      <td>...</td>\n",
       "      <td>0</td>\n",
       "      <td>0</td>\n",
       "      <td>0</td>\n",
       "      <td>0</td>\n",
       "      <td>0</td>\n",
       "      <td>0</td>\n",
       "      <td>0</td>\n",
       "      <td>1</td>\n",
       "      <td>0</td>\n",
       "      <td>0</td>\n",
       "    </tr>\n",
       "    <tr>\n",
       "      <th>3</th>\n",
       "      <td>4</td>\n",
       "      <td>Get Shorty (1995)</td>\n",
       "      <td>01-Jan-1995</td>\n",
       "      <td>0</td>\n",
       "      <td>1</td>\n",
       "      <td>0</td>\n",
       "      <td>0</td>\n",
       "      <td>0</td>\n",
       "      <td>1</td>\n",
       "      <td>0</td>\n",
       "      <td>...</td>\n",
       "      <td>0</td>\n",
       "      <td>0</td>\n",
       "      <td>0</td>\n",
       "      <td>0</td>\n",
       "      <td>0</td>\n",
       "      <td>0</td>\n",
       "      <td>0</td>\n",
       "      <td>0</td>\n",
       "      <td>0</td>\n",
       "      <td>0</td>\n",
       "    </tr>\n",
       "    <tr>\n",
       "      <th>4</th>\n",
       "      <td>5</td>\n",
       "      <td>Copycat (1995)</td>\n",
       "      <td>01-Jan-1995</td>\n",
       "      <td>0</td>\n",
       "      <td>0</td>\n",
       "      <td>0</td>\n",
       "      <td>0</td>\n",
       "      <td>0</td>\n",
       "      <td>0</td>\n",
       "      <td>1</td>\n",
       "      <td>...</td>\n",
       "      <td>0</td>\n",
       "      <td>0</td>\n",
       "      <td>0</td>\n",
       "      <td>0</td>\n",
       "      <td>0</td>\n",
       "      <td>0</td>\n",
       "      <td>0</td>\n",
       "      <td>1</td>\n",
       "      <td>0</td>\n",
       "      <td>0</td>\n",
       "    </tr>\n",
       "  </tbody>\n",
       "</table>\n",
       "<p>5 rows × 22 columns</p>\n",
       "</div>"
      ],
      "text/plain": [
       "   movie_id        movie_title release_date  unknown  Action  Adventure  \\\n",
       "0         1   Toy Story (1995)  01-Jan-1995        0       0          0   \n",
       "1         2   GoldenEye (1995)  01-Jan-1995        0       1          1   \n",
       "2         3  Four Rooms (1995)  01-Jan-1995        0       0          0   \n",
       "3         4  Get Shorty (1995)  01-Jan-1995        0       1          0   \n",
       "4         5     Copycat (1995)  01-Jan-1995        0       0          0   \n",
       "\n",
       "   Animation  Children's  Comedy  Crime   ...     Fantasy  Film-Noir  Horror  \\\n",
       "0          1           1       1      0   ...           0          0       0   \n",
       "1          0           0       0      0   ...           0          0       0   \n",
       "2          0           0       0      0   ...           0          0       0   \n",
       "3          0           0       1      0   ...           0          0       0   \n",
       "4          0           0       0      1   ...           0          0       0   \n",
       "\n",
       "   Musical  Mystery  Romance  Sci-Fi  Thriller  War  Western  \n",
       "0        0        0        0       0         0    0        0  \n",
       "1        0        0        0       0         1    0        0  \n",
       "2        0        0        0       0         1    0        0  \n",
       "3        0        0        0       0         0    0        0  \n",
       "4        0        0        0       0         1    0        0  \n",
       "\n",
       "[5 rows x 22 columns]"
      ]
     },
     "execution_count": 12,
     "metadata": {},
     "output_type": "execute_result"
    }
   ],
   "source": [
    "# there is a field of the movies dataset that has no useful values - what is it?\n",
    "bad_field = 'video_release_date'\n",
    "movies.drop(bad_field, 1, inplace=True)\n",
    "\n",
    "# It also turns out that the IMDB url's don't work :(\n",
    "movies.drop('IMDb_URL', 1, inplace=True)\n",
    "\n",
    "movies.head()"
   ]
  },
  {
   "cell_type": "markdown",
   "metadata": {},
   "source": [
    "## A.4. Read Ratings"
   ]
  },
  {
   "cell_type": "code",
   "execution_count": 13,
   "metadata": {},
   "outputs": [
    {
     "name": "stdout",
     "output_type": "stream",
     "text": [
      "<class 'pandas.core.frame.DataFrame'>\n",
      "RangeIndex: 100000 entries, 0 to 99999\n",
      "Data columns (total 4 columns):\n",
      "user_id           100000 non-null int64\n",
      "movie_id          100000 non-null int64\n",
      "rating            100000 non-null int64\n",
      "unix_timestamp    100000 non-null int64\n",
      "dtypes: int64(4)\n",
      "memory usage: 3.1 MB\n"
     ]
    }
   ],
   "source": [
    "rating_cols = ['user_id', 'movie_id', 'rating', 'unix_timestamp']\n",
    "\n",
    "# read ratings from u.data\n",
    "ratings = pd.read_csv(movielens_url('u.data'), sep='\\t', names=rating_cols, encoding='latin-1')\n",
    "\n",
    "ratings.info()"
   ]
  },
  {
   "cell_type": "code",
   "execution_count": 14,
   "metadata": {},
   "outputs": [
    {
     "name": "stdout",
     "output_type": "stream",
     "text": [
      "<class 'pandas.core.frame.DataFrame'>\n",
      "Int64Index: 99991 entries, 0 to 99999\n",
      "Data columns (total 4 columns):\n",
      "user_id           99991 non-null int64\n",
      "movie_id          99991 non-null int64\n",
      "rating            99991 non-null int64\n",
      "unix_timestamp    99991 non-null int64\n",
      "dtypes: int64(4)\n",
      "memory usage: 3.8 MB\n"
     ]
    }
   ],
   "source": [
    "# remember to drop ratings of our bad movie above\n",
    "ratings.drop(ratings[ratings.movie_id == bad_row_id].index, inplace=True)\n",
    "\n",
    "# confirm they are gone\n",
    "ratings.info()"
   ]
  },
  {
   "cell_type": "markdown",
   "metadata": {},
   "source": [
    "# A.5. Merge Dataset"
   ]
  },
  {
   "cell_type": "code",
   "execution_count": 15,
   "metadata": {},
   "outputs": [
    {
     "data": {
      "text/html": [
       "<div>\n",
       "<style>\n",
       "    .dataframe thead tr:only-child th {\n",
       "        text-align: right;\n",
       "    }\n",
       "\n",
       "    .dataframe thead th {\n",
       "        text-align: left;\n",
       "    }\n",
       "\n",
       "    .dataframe tbody tr th {\n",
       "        vertical-align: top;\n",
       "    }\n",
       "</style>\n",
       "<table border=\"1\" class=\"dataframe\">\n",
       "  <thead>\n",
       "    <tr style=\"text-align: right;\">\n",
       "      <th></th>\n",
       "      <th>movie_id</th>\n",
       "      <th>movie_title</th>\n",
       "      <th>release_date</th>\n",
       "      <th>unknown</th>\n",
       "      <th>Action</th>\n",
       "      <th>Adventure</th>\n",
       "      <th>Animation</th>\n",
       "      <th>Children's</th>\n",
       "      <th>Comedy</th>\n",
       "      <th>Crime</th>\n",
       "      <th>...</th>\n",
       "      <th>Thriller</th>\n",
       "      <th>War</th>\n",
       "      <th>Western</th>\n",
       "      <th>user_id</th>\n",
       "      <th>rating</th>\n",
       "      <th>unix_timestamp</th>\n",
       "      <th>age</th>\n",
       "      <th>sex</th>\n",
       "      <th>occupation</th>\n",
       "      <th>zip_code</th>\n",
       "    </tr>\n",
       "  </thead>\n",
       "  <tbody>\n",
       "    <tr>\n",
       "      <th>0</th>\n",
       "      <td>1</td>\n",
       "      <td>Toy Story (1995)</td>\n",
       "      <td>01-Jan-1995</td>\n",
       "      <td>0</td>\n",
       "      <td>0</td>\n",
       "      <td>0</td>\n",
       "      <td>1</td>\n",
       "      <td>1</td>\n",
       "      <td>1</td>\n",
       "      <td>0</td>\n",
       "      <td>...</td>\n",
       "      <td>0</td>\n",
       "      <td>0</td>\n",
       "      <td>0</td>\n",
       "      <td>308</td>\n",
       "      <td>4</td>\n",
       "      <td>887736532</td>\n",
       "      <td>60</td>\n",
       "      <td>M</td>\n",
       "      <td>retired</td>\n",
       "      <td>95076</td>\n",
       "    </tr>\n",
       "    <tr>\n",
       "      <th>1</th>\n",
       "      <td>4</td>\n",
       "      <td>Get Shorty (1995)</td>\n",
       "      <td>01-Jan-1995</td>\n",
       "      <td>0</td>\n",
       "      <td>1</td>\n",
       "      <td>0</td>\n",
       "      <td>0</td>\n",
       "      <td>0</td>\n",
       "      <td>1</td>\n",
       "      <td>0</td>\n",
       "      <td>...</td>\n",
       "      <td>0</td>\n",
       "      <td>0</td>\n",
       "      <td>0</td>\n",
       "      <td>308</td>\n",
       "      <td>5</td>\n",
       "      <td>887737890</td>\n",
       "      <td>60</td>\n",
       "      <td>M</td>\n",
       "      <td>retired</td>\n",
       "      <td>95076</td>\n",
       "    </tr>\n",
       "    <tr>\n",
       "      <th>2</th>\n",
       "      <td>5</td>\n",
       "      <td>Copycat (1995)</td>\n",
       "      <td>01-Jan-1995</td>\n",
       "      <td>0</td>\n",
       "      <td>0</td>\n",
       "      <td>0</td>\n",
       "      <td>0</td>\n",
       "      <td>0</td>\n",
       "      <td>0</td>\n",
       "      <td>1</td>\n",
       "      <td>...</td>\n",
       "      <td>1</td>\n",
       "      <td>0</td>\n",
       "      <td>0</td>\n",
       "      <td>308</td>\n",
       "      <td>4</td>\n",
       "      <td>887739608</td>\n",
       "      <td>60</td>\n",
       "      <td>M</td>\n",
       "      <td>retired</td>\n",
       "      <td>95076</td>\n",
       "    </tr>\n",
       "    <tr>\n",
       "      <th>3</th>\n",
       "      <td>7</td>\n",
       "      <td>Twelve Monkeys (1995)</td>\n",
       "      <td>01-Jan-1995</td>\n",
       "      <td>0</td>\n",
       "      <td>0</td>\n",
       "      <td>0</td>\n",
       "      <td>0</td>\n",
       "      <td>0</td>\n",
       "      <td>0</td>\n",
       "      <td>0</td>\n",
       "      <td>...</td>\n",
       "      <td>0</td>\n",
       "      <td>0</td>\n",
       "      <td>0</td>\n",
       "      <td>308</td>\n",
       "      <td>4</td>\n",
       "      <td>887738847</td>\n",
       "      <td>60</td>\n",
       "      <td>M</td>\n",
       "      <td>retired</td>\n",
       "      <td>95076</td>\n",
       "    </tr>\n",
       "    <tr>\n",
       "      <th>4</th>\n",
       "      <td>8</td>\n",
       "      <td>Babe (1995)</td>\n",
       "      <td>01-Jan-1995</td>\n",
       "      <td>0</td>\n",
       "      <td>0</td>\n",
       "      <td>0</td>\n",
       "      <td>0</td>\n",
       "      <td>1</td>\n",
       "      <td>1</td>\n",
       "      <td>0</td>\n",
       "      <td>...</td>\n",
       "      <td>0</td>\n",
       "      <td>0</td>\n",
       "      <td>0</td>\n",
       "      <td>308</td>\n",
       "      <td>5</td>\n",
       "      <td>887736696</td>\n",
       "      <td>60</td>\n",
       "      <td>M</td>\n",
       "      <td>retired</td>\n",
       "      <td>95076</td>\n",
       "    </tr>\n",
       "  </tbody>\n",
       "</table>\n",
       "<p>5 rows × 29 columns</p>\n",
       "</div>"
      ],
      "text/plain": [
       "   movie_id            movie_title release_date  unknown  Action  Adventure  \\\n",
       "0         1       Toy Story (1995)  01-Jan-1995        0       0          0   \n",
       "1         4      Get Shorty (1995)  01-Jan-1995        0       1          0   \n",
       "2         5         Copycat (1995)  01-Jan-1995        0       0          0   \n",
       "3         7  Twelve Monkeys (1995)  01-Jan-1995        0       0          0   \n",
       "4         8            Babe (1995)  01-Jan-1995        0       0          0   \n",
       "\n",
       "   Animation  Children's  Comedy  Crime    ...     Thriller  War  Western  \\\n",
       "0          1           1       1      0    ...            0    0        0   \n",
       "1          0           0       1      0    ...            0    0        0   \n",
       "2          0           0       0      1    ...            1    0        0   \n",
       "3          0           0       0      0    ...            0    0        0   \n",
       "4          0           1       1      0    ...            0    0        0   \n",
       "\n",
       "   user_id  rating  unix_timestamp  age  sex  occupation  zip_code  \n",
       "0      308       4       887736532   60    M     retired     95076  \n",
       "1      308       5       887737890   60    M     retired     95076  \n",
       "2      308       4       887739608   60    M     retired     95076  \n",
       "3      308       4       887738847   60    M     retired     95076  \n",
       "4      308       5       887736696   60    M     retired     95076  \n",
       "\n",
       "[5 rows x 29 columns]"
      ]
     },
     "execution_count": 15,
     "metadata": {},
     "output_type": "execute_result"
    }
   ],
   "source": [
    "lens = pd.merge(pd.merge(movies, ratings), users)\n",
    "lens.head()"
   ]
  },
  {
   "cell_type": "markdown",
   "metadata": {},
   "source": [
    "## A.6. Ask Interesting Questions"
   ]
  },
  {
   "cell_type": "code",
   "execution_count": 16,
   "metadata": {},
   "outputs": [
    {
     "name": "stdout",
     "output_type": "stream",
     "text": [
      "Sparsity: 6.31%\n"
     ]
    }
   ],
   "source": [
    "# compute sparsity = 100% * (# ratings) / ((# users) * (# movies))\n",
    "#       basically: what percentage of the full utility matrix is represented?\n",
    "sparsity = len(lens.index) / (len(lens.groupby('user_id')) * len(lens.groupby('movie_id')))\n",
    "print(\"Sparsity: {0:.2f}%\".format(sparsity * 100))"
   ]
  },
  {
   "cell_type": "code",
   "execution_count": 17,
   "metadata": {},
   "outputs": [
    {
     "data": {
      "text/html": [
       "<div>\n",
       "<style>\n",
       "    .dataframe thead tr:only-child th {\n",
       "        text-align: right;\n",
       "    }\n",
       "\n",
       "    .dataframe thead th {\n",
       "        text-align: left;\n",
       "    }\n",
       "\n",
       "    .dataframe tbody tr th {\n",
       "        vertical-align: top;\n",
       "    }\n",
       "</style>\n",
       "<table border=\"1\" class=\"dataframe\">\n",
       "  <thead>\n",
       "    <tr style=\"text-align: right;\">\n",
       "      <th></th>\n",
       "      <th>rating</th>\n",
       "    </tr>\n",
       "  </thead>\n",
       "  <tbody>\n",
       "    <tr>\n",
       "      <th>count</th>\n",
       "      <td>1681.000000</td>\n",
       "    </tr>\n",
       "    <tr>\n",
       "      <th>mean</th>\n",
       "      <td>59.483046</td>\n",
       "    </tr>\n",
       "    <tr>\n",
       "      <th>std</th>\n",
       "      <td>80.398338</td>\n",
       "    </tr>\n",
       "    <tr>\n",
       "      <th>min</th>\n",
       "      <td>1.000000</td>\n",
       "    </tr>\n",
       "    <tr>\n",
       "      <th>25%</th>\n",
       "      <td>6.000000</td>\n",
       "    </tr>\n",
       "    <tr>\n",
       "      <th>50%</th>\n",
       "      <td>27.000000</td>\n",
       "    </tr>\n",
       "    <tr>\n",
       "      <th>75%</th>\n",
       "      <td>80.000000</td>\n",
       "    </tr>\n",
       "    <tr>\n",
       "      <th>max</th>\n",
       "      <td>583.000000</td>\n",
       "    </tr>\n",
       "  </tbody>\n",
       "</table>\n",
       "</div>"
      ],
      "text/plain": [
       "            rating\n",
       "count  1681.000000\n",
       "mean     59.483046\n",
       "std      80.398338\n",
       "min       1.000000\n",
       "25%       6.000000\n",
       "50%      27.000000\n",
       "75%      80.000000\n",
       "max     583.000000"
      ]
     },
     "execution_count": 17,
     "metadata": {},
     "output_type": "execute_result"
    }
   ],
   "source": [
    "# Aggregate by movie_id, get stats on number (i.e. size) of ratings per movie\n",
    "lens.groupby('movie_id').agg({'rating' : 'size'}).describe()"
   ]
  },
  {
   "cell_type": "code",
   "execution_count": 18,
   "metadata": {},
   "outputs": [
    {
     "data": {
      "text/plain": [
       "(array([  1.14500000e+03,   2.49000000e+02,   1.39000000e+02,\n",
       "          6.70000000e+01,   3.80000000e+01,   2.40000000e+01,\n",
       "          7.00000000e+00,   5.00000000e+00,   6.00000000e+00,\n",
       "          1.00000000e+00]),\n",
       " array([   1. ,   59.2,  117.4,  175.6,  233.8,  292. ,  350.2,  408.4,\n",
       "         466.6,  524.8,  583. ]),\n",
       " <a list of 10 Patch objects>)"
      ]
     },
     "execution_count": 18,
     "metadata": {},
     "output_type": "execute_result"
    },
    {
     "data": {
      "image/png": "[encoded data removed]",
      "text/plain": [
       "<matplotlib.figure.Figure at 0x112242f28>"
      ]
     },
     "metadata": {},
     "output_type": "display_data"
    }
   ],
   "source": [
    "# Visualize the movie counts as a histogram\n",
    "ratings_per_movie = lens.groupby('movie_id').size()\n",
    "plt.grid(True)\n",
    "plt.hist(ratings_per_movie)"
   ]
  },
  {
   "cell_type": "code",
   "execution_count": 19,
   "metadata": {},
   "outputs": [
    {
     "data": {
      "text/html": [
       "<div>\n",
       "<style>\n",
       "    .dataframe thead tr:only-child th {\n",
       "        text-align: right;\n",
       "    }\n",
       "\n",
       "    .dataframe thead th {\n",
       "        text-align: left;\n",
       "    }\n",
       "\n",
       "    .dataframe tbody tr th {\n",
       "        vertical-align: top;\n",
       "    }\n",
       "</style>\n",
       "<table border=\"1\" class=\"dataframe\">\n",
       "  <thead>\n",
       "    <tr style=\"text-align: right;\">\n",
       "      <th></th>\n",
       "      <th>rating</th>\n",
       "    </tr>\n",
       "  </thead>\n",
       "  <tbody>\n",
       "    <tr>\n",
       "      <th>count</th>\n",
       "      <td>943.000000</td>\n",
       "    </tr>\n",
       "    <tr>\n",
       "      <th>mean</th>\n",
       "      <td>106.034995</td>\n",
       "    </tr>\n",
       "    <tr>\n",
       "      <th>std</th>\n",
       "      <td>100.920992</td>\n",
       "    </tr>\n",
       "    <tr>\n",
       "      <th>min</th>\n",
       "      <td>20.000000</td>\n",
       "    </tr>\n",
       "    <tr>\n",
       "      <th>25%</th>\n",
       "      <td>33.000000</td>\n",
       "    </tr>\n",
       "    <tr>\n",
       "      <th>50%</th>\n",
       "      <td>65.000000</td>\n",
       "    </tr>\n",
       "    <tr>\n",
       "      <th>75%</th>\n",
       "      <td>148.000000</td>\n",
       "    </tr>\n",
       "    <tr>\n",
       "      <th>max</th>\n",
       "      <td>737.000000</td>\n",
       "    </tr>\n",
       "  </tbody>\n",
       "</table>\n",
       "</div>"
      ],
      "text/plain": [
       "           rating\n",
       "count  943.000000\n",
       "mean   106.034995\n",
       "std    100.920992\n",
       "min     20.000000\n",
       "25%     33.000000\n",
       "50%     65.000000\n",
       "75%    148.000000\n",
       "max    737.000000"
      ]
     },
     "execution_count": 19,
     "metadata": {},
     "output_type": "execute_result"
    }
   ],
   "source": [
    "# Aggregate by user_id, get stats on number (i.e. size) of ratings per user\n",
    "lens.groupby('user_id').agg({'rating' : 'size'}).describe()"
   ]
  },
  {
   "cell_type": "code",
   "execution_count": 20,
   "metadata": {},
   "outputs": [
    {
     "data": {
      "text/plain": [
       "(array([ 560.,  183.,   96.,   55.,   25.,   15.,    5.,    1.,    1.,    2.]),\n",
       " array([  20. ,   91.7,  163.4,  235.1,  306.8,  378.5,  450.2,  521.9,\n",
       "         593.6,  665.3,  737. ]),\n",
       " <a list of 10 Patch objects>)"
      ]
     },
     "execution_count": 20,
     "metadata": {},
     "output_type": "execute_result"
    },
    {
     "data": {
      "image/png": "[encoded data removed]",
      "text/plain": [
       "<matplotlib.figure.Figure at 0x1127f90f0>"
      ]
     },
     "metadata": {},
     "output_type": "display_data"
    }
   ],
   "source": [
    "# Visualize the user counts as a histogram\n",
    "ratings_per_user = lens.groupby('user_id').size()\n",
    "plt.grid(True)\n",
    "plt.hist(ratings_per_user)"
   ]
  },
  {
   "cell_type": "markdown",
   "metadata": {},
   "source": [
    "comment on the last two stats tables/plots - what does this say in general about ratings per user/movie?\n",
    "\n",
    "Answer: Higher average of ratings per user in comparison to ratings per movie"
   ]
  },
  {
   "cell_type": "code",
   "execution_count": 21,
   "metadata": {},
   "outputs": [
    {
     "data": {
      "text/html": [
       "<div>\n",
       "<style>\n",
       "    .dataframe thead tr:only-child th {\n",
       "        text-align: right;\n",
       "    }\n",
       "\n",
       "    .dataframe thead th {\n",
       "        text-align: left;\n",
       "    }\n",
       "\n",
       "    .dataframe tbody tr th {\n",
       "        vertical-align: top;\n",
       "    }\n",
       "</style>\n",
       "<table border=\"1\" class=\"dataframe\">\n",
       "  <thead>\n",
       "    <tr style=\"text-align: right;\">\n",
       "      <th></th>\n",
       "      <th>movie_id</th>\n",
       "      <th>movie_title</th>\n",
       "      <th>release_date</th>\n",
       "      <th>unknown</th>\n",
       "      <th>Action</th>\n",
       "      <th>Adventure</th>\n",
       "      <th>Animation</th>\n",
       "      <th>Children's</th>\n",
       "      <th>Comedy</th>\n",
       "      <th>Crime</th>\n",
       "      <th>...</th>\n",
       "      <th>Fantasy</th>\n",
       "      <th>Film-Noir</th>\n",
       "      <th>Horror</th>\n",
       "      <th>Musical</th>\n",
       "      <th>Mystery</th>\n",
       "      <th>Romance</th>\n",
       "      <th>Sci-Fi</th>\n",
       "      <th>Thriller</th>\n",
       "      <th>War</th>\n",
       "      <th>Western</th>\n",
       "    </tr>\n",
       "  </thead>\n",
       "  <tbody>\n",
       "    <tr>\n",
       "      <th>49</th>\n",
       "      <td>50</td>\n",
       "      <td>Star Wars (1977)</td>\n",
       "      <td>01-Jan-1977</td>\n",
       "      <td>0</td>\n",
       "      <td>1</td>\n",
       "      <td>1</td>\n",
       "      <td>0</td>\n",
       "      <td>0</td>\n",
       "      <td>0</td>\n",
       "      <td>0</td>\n",
       "      <td>...</td>\n",
       "      <td>0</td>\n",
       "      <td>0</td>\n",
       "      <td>0</td>\n",
       "      <td>0</td>\n",
       "      <td>0</td>\n",
       "      <td>1</td>\n",
       "      <td>1</td>\n",
       "      <td>0</td>\n",
       "      <td>1</td>\n",
       "      <td>0</td>\n",
       "    </tr>\n",
       "  </tbody>\n",
       "</table>\n",
       "<p>1 rows × 22 columns</p>\n",
       "</div>"
      ],
      "text/plain": [
       "    movie_id       movie_title release_date  unknown  Action  Adventure  \\\n",
       "49        50  Star Wars (1977)  01-Jan-1977        0       1          1   \n",
       "\n",
       "    Animation  Children's  Comedy  Crime   ...     Fantasy  Film-Noir  Horror  \\\n",
       "49          0           0       0      0   ...           0          0       0   \n",
       "\n",
       "    Musical  Mystery  Romance  Sci-Fi  Thriller  War  Western  \n",
       "49        0        0        1       1         0    1        0  \n",
       "\n",
       "[1 rows x 22 columns]"
      ]
     },
     "execution_count": 21,
     "metadata": {},
     "output_type": "execute_result"
    }
   ],
   "source": [
    "# Which movie has the most ratings?\n",
    "stats = lens.groupby(\"movie_id\").agg({'rating' : 'size'}).to_dict()['rating']\n",
    "max_rating_movie_id = max(stats, key=stats.get)\n",
    "movies.loc[movies['movie_id'] == max_rating_movie_id]"
   ]
  },
  {
   "cell_type": "code",
   "execution_count": 22,
   "metadata": {},
   "outputs": [
    {
     "data": {
      "text/plain": [
       "<matplotlib.text.Text at 0x113116358>"
      ]
     },
     "execution_count": 22,
     "metadata": {},
     "output_type": "execute_result"
    },
    {
     "data": {
      "image/png": "[encoded data removed]",
      "text/plain": [
       "<matplotlib.figure.Figure at 0x112fd0400>"
      ]
     },
     "metadata": {},
     "output_type": "display_data"
    }
   ],
   "source": [
    "# are all ratings equally likely? output a bar chart of rating frequency overall\n",
    "ratings_bar = lens['rating']\n",
    "p = ratings_bar.value_counts().sort_index().plot(kind = \"bar\")\n",
    "p.set_xlabel(\"rating\")\n",
    "p.set_ylabel(\"count\")"
   ]
  },
  {
   "cell_type": "code",
   "execution_count": 23,
   "metadata": {},
   "outputs": [
    {
     "data": {
      "text/html": [
       "<div>\n",
       "<style>\n",
       "    .dataframe thead tr:only-child th {\n",
       "        text-align: right;\n",
       "    }\n",
       "\n",
       "    .dataframe thead th {\n",
       "        text-align: left;\n",
       "    }\n",
       "\n",
       "    .dataframe tbody tr th {\n",
       "        vertical-align: top;\n",
       "    }\n",
       "</style>\n",
       "<table border=\"1\" class=\"dataframe\">\n",
       "  <thead>\n",
       "    <tr style=\"text-align: right;\">\n",
       "      <th></th>\n",
       "      <th></th>\n",
       "      <th>size</th>\n",
       "      <th>mean</th>\n",
       "    </tr>\n",
       "    <tr>\n",
       "      <th>movie_id</th>\n",
       "      <th>movie_title</th>\n",
       "      <th></th>\n",
       "      <th></th>\n",
       "    </tr>\n",
       "  </thead>\n",
       "  <tbody>\n",
       "    <tr>\n",
       "      <th>50</th>\n",
       "      <th>Star Wars (1977)</th>\n",
       "      <td>583</td>\n",
       "      <td>4.358491</td>\n",
       "    </tr>\n",
       "    <tr>\n",
       "      <th>98</th>\n",
       "      <th>Silence of the Lambs, The (1991)</th>\n",
       "      <td>390</td>\n",
       "      <td>4.289744</td>\n",
       "    </tr>\n",
       "    <tr>\n",
       "      <th>127</th>\n",
       "      <th>Godfather, The (1972)</th>\n",
       "      <td>413</td>\n",
       "      <td>4.283293</td>\n",
       "    </tr>\n",
       "    <tr>\n",
       "      <th>174</th>\n",
       "      <th>Raiders of the Lost Ark (1981)</th>\n",
       "      <td>420</td>\n",
       "      <td>4.252381</td>\n",
       "    </tr>\n",
       "    <tr>\n",
       "      <th>313</th>\n",
       "      <th>Titanic (1997)</th>\n",
       "      <td>350</td>\n",
       "      <td>4.245714</td>\n",
       "    </tr>\n",
       "    <tr>\n",
       "      <th>172</th>\n",
       "      <th>Empire Strikes Back, The (1980)</th>\n",
       "      <td>367</td>\n",
       "      <td>4.204360</td>\n",
       "    </tr>\n",
       "    <tr>\n",
       "      <th>173</th>\n",
       "      <th>Princess Bride, The (1987)</th>\n",
       "      <td>324</td>\n",
       "      <td>4.172840</td>\n",
       "    </tr>\n",
       "    <tr>\n",
       "      <th>100</th>\n",
       "      <th>Fargo (1996)</th>\n",
       "      <td>508</td>\n",
       "      <td>4.155512</td>\n",
       "    </tr>\n",
       "    <tr>\n",
       "      <th>168</th>\n",
       "      <th>Monty Python and the Holy Grail (1974)</th>\n",
       "      <td>316</td>\n",
       "      <td>4.066456</td>\n",
       "    </tr>\n",
       "    <tr>\n",
       "      <th>56</th>\n",
       "      <th>Pulp Fiction (1994)</th>\n",
       "      <td>394</td>\n",
       "      <td>4.060914</td>\n",
       "    </tr>\n",
       "  </tbody>\n",
       "</table>\n",
       "</div>"
      ],
      "text/plain": [
       "                                                 size      mean\n",
       "movie_id movie_title                                           \n",
       "50       Star Wars (1977)                         583  4.358491\n",
       "98       Silence of the Lambs, The (1991)         390  4.289744\n",
       "127      Godfather, The (1972)                    413  4.283293\n",
       "174      Raiders of the Lost Ark (1981)           420  4.252381\n",
       "313      Titanic (1997)                           350  4.245714\n",
       "172      Empire Strikes Back, The (1980)          367  4.204360\n",
       "173      Princess Bride, The (1987)               324  4.172840\n",
       "100      Fargo (1996)                             508  4.155512\n",
       "168      Monty Python and the Holy Grail (1974)   316  4.066456\n",
       "56       Pulp Fiction (1994)                      394  4.060914"
      ]
     },
     "execution_count": 23,
     "metadata": {},
     "output_type": "execute_result"
    }
   ],
   "source": [
    "# of the movies that have 300 or more ratings, what are the top-ten ranked movies?\n",
    "size_and_mean = lens.groupby([\"movie_id\", 'movie_title']).agg({'rating' : ['size', 'mean']})\n",
    "qualified_size_and_mean = size_and_mean.loc[size_and_mean['rating']['size'] >= 300]\n",
    "qualified_size_and_mean['rating'].sort_values(by=['mean'], ascending=False).head(10)"
   ]
  },
  {
   "cell_type": "code",
   "execution_count": 24,
   "metadata": {},
   "outputs": [
    {
     "data": {
      "text/html": [
       "<div>\n",
       "<style>\n",
       "    .dataframe thead tr:only-child th {\n",
       "        text-align: right;\n",
       "    }\n",
       "\n",
       "    .dataframe thead th {\n",
       "        text-align: left;\n",
       "    }\n",
       "\n",
       "    .dataframe tbody tr th {\n",
       "        vertical-align: top;\n",
       "    }\n",
       "</style>\n",
       "<table border=\"1\" class=\"dataframe\">\n",
       "  <thead>\n",
       "    <tr style=\"text-align: right;\">\n",
       "      <th>sex</th>\n",
       "      <th>F</th>\n",
       "      <th>M</th>\n",
       "    </tr>\n",
       "    <tr>\n",
       "      <th>movie_title</th>\n",
       "      <th></th>\n",
       "      <th></th>\n",
       "    </tr>\n",
       "  </thead>\n",
       "  <tbody>\n",
       "    <tr>\n",
       "      <th>Someone Else's America (1995)</th>\n",
       "      <td>5.0</td>\n",
       "      <td>NaN</td>\n",
       "    </tr>\n",
       "    <tr>\n",
       "      <th>Maya Lin: A Strong Clear Vision (1994)</th>\n",
       "      <td>5.0</td>\n",
       "      <td>4.333333</td>\n",
       "    </tr>\n",
       "    <tr>\n",
       "      <th>Foreign Correspondent (1940)</th>\n",
       "      <td>5.0</td>\n",
       "      <td>3.785714</td>\n",
       "    </tr>\n",
       "    <tr>\n",
       "      <th>Faster Pussycat! Kill! Kill! (1965)</th>\n",
       "      <td>5.0</td>\n",
       "      <td>2.666667</td>\n",
       "    </tr>\n",
       "    <tr>\n",
       "      <th>Telling Lies in America (1997)</th>\n",
       "      <td>5.0</td>\n",
       "      <td>3.083333</td>\n",
       "    </tr>\n",
       "    <tr>\n",
       "      <th>Prefontaine (1997)</th>\n",
       "      <td>5.0</td>\n",
       "      <td>5.000000</td>\n",
       "    </tr>\n",
       "    <tr>\n",
       "      <th>Everest (1998)</th>\n",
       "      <td>5.0</td>\n",
       "      <td>4.000000</td>\n",
       "    </tr>\n",
       "    <tr>\n",
       "      <th>Stripes (1981)</th>\n",
       "      <td>5.0</td>\n",
       "      <td>3.500000</td>\n",
       "    </tr>\n",
       "    <tr>\n",
       "      <th>Visitors, The (Visiteurs, Les) (1993)</th>\n",
       "      <td>5.0</td>\n",
       "      <td>2.000000</td>\n",
       "    </tr>\n",
       "    <tr>\n",
       "      <th>Mina Tannenbaum (1994)</th>\n",
       "      <td>5.0</td>\n",
       "      <td>3.000000</td>\n",
       "    </tr>\n",
       "  </tbody>\n",
       "</table>\n",
       "</div>"
      ],
      "text/plain": [
       "sex                                       F         M\n",
       "movie_title                                          \n",
       "Someone Else's America (1995)           5.0       NaN\n",
       "Maya Lin: A Strong Clear Vision (1994)  5.0  4.333333\n",
       "Foreign Correspondent (1940)            5.0  3.785714\n",
       "Faster Pussycat! Kill! Kill! (1965)     5.0  2.666667\n",
       "Telling Lies in America (1997)          5.0  3.083333\n",
       "Prefontaine (1997)                      5.0  5.000000\n",
       "Everest (1998)                          5.0  4.000000\n",
       "Stripes (1981)                          5.0  3.500000\n",
       "Visitors, The (Visiteurs, Les) (1993)   5.0  2.000000\n",
       "Mina Tannenbaum (1994)                  5.0  3.000000"
      ]
     },
     "execution_count": 24,
     "metadata": {},
     "output_type": "execute_result"
    }
   ],
   "source": [
    "# describe one more interesting question, and then query the result with Pandas\n",
    "# The top 10 rating movies by gender\n",
    "lens.pivot_table('rating', index='movie_title', columns='sex', aggfunc='mean').sort_values(by='F', ascending=False).head(10)"
   ]
  },
  {
   "cell_type": "markdown",
   "metadata": {},
   "source": [
    "# B. Extract Utility Matrix"
   ]
  },
  {
   "cell_type": "code",
   "execution_count": 25,
   "metadata": {
    "collapsed": true
   },
   "outputs": [],
   "source": [
    "def user_id_to_index(id):\n",
    "    return id-1\n",
    "\n",
    "def user_index_to_id(idx):\n",
    "    return idx+1\n",
    "\n",
    "# Accounts for the bad movie\n",
    "def movie_id_to_index(id):\n",
    "    return id-1 if id<bad_row_id else id-2\n",
    "\n",
    "# Accounts for the bad movie\n",
    "def movie_index_to_id(idx):\n",
    "    return idx+1 if idx<(bad_row_id-1) else idx+2"
   ]
  },
  {
   "cell_type": "code",
   "execution_count": 26,
   "metadata": {},
   "outputs": [
    {
     "name": "stdout",
     "output_type": "stream",
     "text": [
      "Sparsity: 6.31%\n"
     ]
    }
   ],
   "source": [
    "num_users = ratings.user_id.unique().shape[0]\n",
    "num_movies = ratings.movie_id.unique().shape[0]\n",
    "\n",
    "utility = np.zeros((num_users, num_movies))\n",
    "\n",
    "for idx,rating in ratings.iterrows():\n",
    "    utility[user_id_to_index(rating.user_id), movie_id_to_index(rating.movie_id)] = rating.rating\n",
    "\n",
    "# should match above!\n",
    "sparsity = float(len(utility.nonzero()[0]))\n",
    "sparsity /= (utility.shape[0] * utility.shape[1])\n",
    "sparsity *= 100\n",
    "print('Sparsity: {:.2f}%'.format(sparsity))"
   ]
  },
  {
   "cell_type": "markdown",
   "metadata": {},
   "source": [
    "# C. Evaluation via Mean Squared Error (MSE)"
   ]
  },
  {
   "cell_type": "code",
   "execution_count": 27,
   "metadata": {},
   "outputs": [
    {
     "name": "stdout",
     "output_type": "stream",
     "text": [
      "6.2000\n"
     ]
    }
   ],
   "source": [
    "a = [1, 2, 3, 4, 5]\n",
    "b = [1, 1, 4, 2, 10]\n",
    "print(\"{:.4f}\".format(mse(a, b)))"
   ]
  },
  {
   "cell_type": "markdown",
   "metadata": {},
   "source": [
    "Show the mathematical operations that reproduce the above result\n",
    "\n",
    "$$ mse = (a-b) \\cdot (a-b) / (1 * 5) $$\n",
    "$$ mse = 31 / 5 $$\n",
    "$$ mse = 6.2 $$"
   ]
  },
  {
   "cell_type": "code",
   "execution_count": 28,
   "metadata": {},
   "outputs": [
    {
     "name": "stdout",
     "output_type": "stream",
     "text": [
      "2.0000\n"
     ]
    }
   ],
   "source": [
    "def mse_utility(u1, u2):\n",
    "    return mse(u1[u1.nonzero()].flatten(), u2[u2.nonzero()].flatten())\n",
    "\n",
    "u1 = np.array([[2, 0, 0, 4, 4], [5, 5, 5, 3, 3], [2, 4, 2, 1, 2]])\n",
    "u2 = np.array([[3, 0, 0, 4, 4], [5, 5, 5, 3, 3], [2, 4, 2, 1, 7]])\n",
    "\n",
    "print(\"{:.4f}\".format(mse_utility(u1, u2)))"
   ]
  },
  {
   "cell_type": "markdown",
   "metadata": {},
   "source": [
    "TODO: \n",
    "1. Explain what operation is being performed. Include *why* it is appropriate in the context evaluating a recommender system, as well as performance implications.\n",
    "\n",
    "2. Show the mathematical operations that reproduce the above result\n",
    "\n",
    "$$ mse = \\ldots $$"
   ]
  },
  {
   "cell_type": "markdown",
   "metadata": {},
   "source": [
    "# D. Similarity via Cosine Distance"
   ]
  },
  {
   "cell_type": "code",
   "execution_count": 29,
   "metadata": {},
   "outputs": [
    {
     "name": "stdout",
     "output_type": "stream",
     "text": [
      "Cosine Similarity: 0.935601, expected=0.935601\n"
     ]
    }
   ],
   "source": [
    "# Implement, only use primitive Python loops/operations\n",
    "# sim = (A . B) / ( ||A|| ||B|| )\n",
    "def cosine_sim(v1, v2):\n",
    "    numerator = sum([x * y for x, y in zip(v1, v2)])\n",
    "    denominator = np.sqrt(sum([x ** 2 for x in v1])) * np.sqrt(sum([x ** 2 for x in v2]))\n",
    "    return numerator / denominator\n",
    "    \n",
    "v1 = [5, 0, 3, 0, 2, 0, 0, 2, 0, 0]\n",
    "v2 = [3, 0, 2, 0, 1, 1, 0, 1, 0, 1]\n",
    "\n",
    "print(\"Cosine Similarity: {:.6f}, expected={:.6f}\".format(cosine_sim(v1, v2), cosine_similarity(np.array(v1).reshape(1, -1), np.array(v2).reshape(1, -1))[0][0]))"
   ]
  },
  {
   "cell_type": "code",
   "execution_count": 30,
   "metadata": {},
   "outputs": [
    {
     "name": "stdout",
     "output_type": "stream",
     "text": [
      "[[ 1.          0.58760596  0.49518757]\n",
      " [ 0.58760596  1.          0.94352977]\n",
      " [ 0.49518757  0.94352977  1.        ]]\n",
      "0.587605960347\n",
      "0.495187568472\n",
      "0.943529768569\n"
     ]
    }
   ],
   "source": [
    "def sim_matrix(u, eps=1.0e-9):\n",
    "    step1 = u.dot(u.T) + eps\n",
    "    step2 = np.array([np.sqrt(np.diagonal(step1))])\n",
    "    return (step1 / step2 / step2.T)\n",
    "\n",
    "print(sim_matrix(u1))\n",
    "print(cosine_sim(u1[0], u1[1]))\n",
    "print(cosine_sim(u1[0], u1[2]))\n",
    "print(cosine_sim(u1[1], u1[2]))"
   ]
  },
  {
   "cell_type": "code",
   "execution_count": 31,
   "metadata": {},
   "outputs": [
    {
     "name": "stdout",
     "output_type": "stream",
     "text": [
      "MSE for U1: 0.0000\n",
      "MSE for U2: 0.0000\n"
     ]
    }
   ],
   "source": [
    "def sim_allpairs(u):\n",
    "    n = u.shape[0]\n",
    "    sim = np.eye(n)\n",
    "    for x in itertools.combinations(range(n), 2):\n",
    "        s = cosine_sim(u[x[0]], u[x[1]])\n",
    "        sim[x[0], x[1]] = s\n",
    "        sim[x[1], x[0]] = s\n",
    "    \n",
    "    return sim\n",
    "\n",
    "print(\"MSE for U1: {:.4f}\".format(mse_utility(sim_matrix(u1), sim_allpairs(u1))))\n",
    "print(\"MSE for U2: {:.4f}\".format(mse_utility(sim_matrix(u2), sim_allpairs(u2))))"
   ]
  },
  {
   "cell_type": "code",
   "execution_count": 32,
   "metadata": {},
   "outputs": [
    {
     "name": "stdout",
     "output_type": "stream",
     "text": [
      "10 loops, best of 3: 309 µs per loop\n"
     ]
    }
   ],
   "source": [
    "%timeit -n 10 -r 3 sim_matrix(utility[:50,:])"
   ]
  },
  {
   "cell_type": "code",
   "execution_count": 33,
   "metadata": {},
   "outputs": [
    {
     "name": "stdout",
     "output_type": "stream",
     "text": [
      "10 loops, best of 3: 1.76 s per loop\n"
     ]
    }
   ],
   "source": [
    "%timeit -n 10 -r 3 sim_allpairs(utility[:50,:])"
   ]
  },
  {
   "cell_type": "markdown",
   "metadata": {},
   "source": [
    "TODO:\n",
    "1. Explain what each line of sim_matrix is doing (including why eps is necessary)\n",
    "\n",
    "Answer: step1 use a matrix times its transform, step2 find the norm of the matrix. eps is Necesary in case when the denominator is 0\n",
    "\n",
    "2. Explain why this approach is preferable to pairwise calls to cosine_sim (reference the previous two timeit calls; explain what each is doing and how it relates to your conclusion)\n",
    "\n",
    "Answer: The complexity for the first one is $n^2$, while second one is $n^3$"
   ]
  },
  {
   "cell_type": "code",
   "execution_count": 34,
   "metadata": {},
   "outputs": [
    {
     "name": "stdout",
     "output_type": "stream",
     "text": [
      "[[ 1.          0.89714996  0.93743687  0.85348593  0.87278605]\n",
      " [ 0.89714996  1.          0.9570244   0.5819357   0.66701701]\n",
      " [ 0.93743687  0.9570244   1.          0.61910348  0.65517241]\n",
      " [ 0.85348593  0.5819357   0.61910348  1.          0.983282  ]\n",
      " [ 0.87278605  0.66701701  0.65517241  0.983282    1.        ]]\n",
      "0.897149958915\n",
      "0.937436866561\n",
      "0.853485927499\n",
      "0.872786048178\n",
      "0.957024404433\n",
      "0.58193569724\n",
      "0.667017009151\n",
      "0.61910348462\n",
      "0.655172413793\n",
      "0.983282004984\n"
     ]
    }
   ],
   "source": [
    "def sim_users(u):\n",
    "    return sim_matrix(u)\n",
    "\n",
    "# use sim_matrix to return similarity between items (i.e. movies)\n",
    "def sim_items(u):\n",
    "    return sim_matrix(u.T)\n",
    "\n",
    "print(sim_items(u1))\n",
    "print(cosine_sim(u1[:, 0], u1[:, 1]))\n",
    "print(cosine_sim(u1[:, 0], u1[:, 2]))\n",
    "print(cosine_sim(u1[:, 0], u1[:, 3]))\n",
    "print(cosine_sim(u1[:, 0], u1[:, 4]))\n",
    "print(cosine_sim(u1[:, 1], u1[:, 2]))\n",
    "print(cosine_sim(u1[:, 1], u1[:, 3]))\n",
    "print(cosine_sim(u1[:, 1], u1[:, 4]))\n",
    "print(cosine_sim(u1[:, 2], u1[:, 3]))\n",
    "print(cosine_sim(u1[:, 2], u1[:, 4]))\n",
    "print(cosine_sim(u1[:, 3], u1[:, 4]))"
   ]
  },
  {
   "cell_type": "markdown",
   "metadata": {},
   "source": [
    "# E. K-Neighborhood"
   ]
  },
  {
   "cell_type": "code",
   "execution_count": 35,
   "metadata": {
    "collapsed": true
   },
   "outputs": [],
   "source": [
    "# TODO: given a slice from a similarity matrix (arr),\n",
    "#       index of \"self\" (self_idx),\n",
    "#       and k\n",
    "#       return dictionary of k most similar indexes as {idx:sim}\n",
    "#       HINT: look at np.argsort\n",
    "def top_k(arr, self_idx, k):\n",
    "    val_index = { v:key for key, v in enumerate(arr) }\n",
    "    top_k_val = sorted(val_index.keys())[::-1]\n",
    "    i = 0\n",
    "    res = {}\n",
    "    while i < k:\n",
    "        if val_index[top_k_val[i]] == self_idx:\n",
    "            i += 1\n",
    "            k += 1\n",
    "            continue\n",
    "        res[val_index[top_k_val[i]]] = top_k_val[i]\n",
    "        i += 1\n",
    "    return res"
   ]
  },
  {
   "cell_type": "code",
   "execution_count": 36,
   "metadata": {},
   "outputs": [
    {
     "name": "stdout",
     "output_type": "stream",
     "text": [
      "[[ 1.          0.89714996  0.93743687  0.85348593  0.87278605]\n",
      " [ 0.89714996  1.          0.9570244   0.5819357   0.66701701]\n",
      " [ 0.93743687  0.9570244   1.          0.61910348  0.65517241]\n",
      " [ 0.85348593  0.5819357   0.61910348  1.          0.983282  ]\n",
      " [ 0.87278605  0.66701701  0.65517241  0.983282    1.        ]]\n",
      "\n",
      "[ 1.          0.89714996  0.93743687  0.85348593  0.87278605]\n",
      "{2: 0.93743686656305114, 1: 0.89714995891726312}\n",
      "\n",
      "[ 0.89714996  1.          0.9570244   0.5819357   0.66701701]\n",
      "{2: 0.95702440443430259, 0: 0.89714995891726301}\n",
      "\n",
      "[ 0.89714996  1.          0.9570244   0.5819357   0.66701701]\n",
      "{2: 0.9570244044343027, 0: 0.89714995891726312, 4: 0.66701700915996875}\n",
      "\n"
     ]
    }
   ],
   "source": [
    "sim_u1 = sim_items(u1)\n",
    "\n",
    "# Example via u1...\n",
    "print(sim_u1)\n",
    "print()\n",
    "\n",
    "# Top-2 w.r.t. row 0 (should be {1: 0.897, 2:0.937})\n",
    "print(sim_u1[0])\n",
    "print(top_k(sim_u1[0], 0, 2))\n",
    "print()\n",
    "\n",
    "# Top-2 w.r.t. row 1 (should be {0: 0.897, 2:0.957})\n",
    "print(sim_u1[1])\n",
    "print(top_k(sim_u1[1], 1, 2))\n",
    "print()\n",
    "\n",
    "# Top-3 w.r.t. col 1 (should be {0: 0.897, 2:0.957, 4:0.667})\n",
    "print(sim_u1[:, 1])\n",
    "print(top_k(sim_u1[:, 1], 1, 3))\n",
    "print()"
   ]
  },
  {
   "cell_type": "markdown",
   "metadata": {},
   "source": [
    "# F. Recommend via Similar Users"
   ]
  },
  {
   "cell_type": "code",
   "execution_count": 49,
   "metadata": {},
   "outputs": [
    {
     "name": "stdout",
     "output_type": "stream",
     "text": [
      "[[2 0 0 4 4]\n",
      " [5 5 5 3 3]\n",
      " [2 4 2 1 2]]\n",
      "\n",
      "[[ 1.          0.58760596  0.49518757]\n",
      " [ 0.58760596  1.          0.94352977]\n",
      " [ 0.49518757  0.94352977  1.        ]]\n",
      "\n",
      "5.0\n",
      "4.542675907\n"
     ]
    }
   ],
   "source": [
    "# given utility matrix (m_utility),\n",
    "#       similarity of users (m_sim_users),\n",
    "#       user index of interest (user_idx),\n",
    "#       item index of interest (item_idx),\n",
    "#       neighborhood size (k)\n",
    "# \n",
    "#       output the average of the similarity-weighted ratings\n",
    "#       of top-k similar users that have\n",
    "#       rated the item\n",
    "def rec_via_users(m_utility, m_sim_users, user_idx, item_idx, k):\n",
    "    items = m_utility[:, item_idx]\n",
    "    i_sim = top_k(m_sim_users[:, user_idx], user_idx, k)\n",
    "    non_zero_index = [i for i in i_sim if items[i] != 0]\n",
    "    if sum([i_sim[i] for i in non_zero_index]) == 0:\n",
    "        return 0\n",
    "    return sum([i_sim[i] * items[i] for i in non_zero_index]) / sum([i_sim[i] for i in non_zero_index])\n",
    "    \n",
    "print(u1)\n",
    "print()\n",
    "print(sim_users(u1))\n",
    "print()\n",
    "\n",
    "# Expected: 5\n",
    "print(rec_via_users(u1, sim_users(u1), 0, 1, 1))\n",
    "\n",
    "# Expected: 4.54 ~ (.588 * 5) + (.495 * 4) / (.588 + .495)\n",
    "print(rec_via_users(u1, sim_users(u1), 0, 1, 2))"
   ]
  },
  {
   "cell_type": "markdown",
   "metadata": {},
   "source": [
    "## F.1. Evaluation"
   ]
  },
  {
   "cell_type": "code",
   "execution_count": 50,
   "metadata": {},
   "outputs": [
    {
     "name": "stdout",
     "output_type": "stream",
     "text": [
      "1/50 5.84233774793\n",
      "2/50 3.87098117454\n",
      "3/50 2.91131117606\n",
      "4/50 2.39764980189\n",
      "5/50 2.33668038893\n",
      "6/50 2.29493339095\n",
      "7/50 1.90007002056\n",
      "8/50 1.70336661621\n",
      "9/50 1.7880964089\n",
      "10/50 1.61932981332\n",
      "11/50 1.61931922692\n",
      "12/50 1.56165359917\n",
      "13/50 1.49226336547\n",
      "14/50 1.51568283632\n",
      "15/50 1.51010054401\n",
      "16/50 1.51669524844\n",
      "17/50 1.31786563335\n",
      "18/50 1.26729492381\n",
      "19/50 1.56933414766\n",
      "20/50 1.35265504646\n",
      "21/50 1.28939409727\n",
      "22/50 1.41813828177\n",
      "23/50 1.44438610293\n",
      "24/50 1.32207736683\n",
      "25/50 1.29565816667\n",
      "26/50 1.23283129665\n",
      "27/50 1.28004578392\n",
      "28/50 1.15182829878\n",
      "29/50 1.27704705434\n",
      "30/50 1.26735144462\n",
      "31/50 1.28266283514\n",
      "32/50 1.28568822391\n",
      "33/50 1.23708402271\n",
      "34/50 1.34405290325\n",
      "35/50 1.16755410505\n",
      "36/50 1.15406826846\n",
      "37/50 1.31856390908\n",
      "38/50 1.15653345297\n",
      "39/50 1.2239051695\n",
      "40/50 1.08491307759\n",
      "41/50 1.17474633587\n",
      "42/50 1.23082191773\n",
      "43/50 1.27174887883\n",
      "44/50 1.37380497121\n",
      "45/50 1.18467172372\n",
      "46/50 1.16741391673\n",
      "47/50 1.17197754402\n",
      "48/50 1.09989130429\n",
      "49/50 1.13677213996\n",
      "50/50 1.24291620442\n"
     ]
    }
   ],
   "source": [
    "random.seed(12345)\n",
    "\n",
    "def recs_via_users(m_utility, m_sim_users, k, test_n):\n",
    "    test = random.sample(range(m_sim_users.shape[0]), test_n)\n",
    "    true = []\n",
    "    pred = []\n",
    "    for user_idx in test:\n",
    "        for item_idx in range(m_utility.shape[1]):\n",
    "            if m_utility[user_idx][item_idx] != 0:\n",
    "                true.append(m_utility[user_idx][item_idx])\n",
    "                \n",
    "                p = round(rec_via_users(m_utility, m_sim_users, user_idx, item_idx, k))\n",
    "                if p != 0:    \n",
    "                    pred.append(p)\n",
    "                else:\n",
    "                    pred.append(1.0e-9)\n",
    "                        \n",
    "\n",
    "    return mse_utility(np.array([true], dtype=np.float64), np.array([pred], dtype=np.float64))\n",
    "    \n",
    "similarity_users = sim_users(utility)\n",
    "\n",
    "ks = []\n",
    "mses = []\n",
    "for i in range(50):\n",
    "    ks.append(i+1)\n",
    "    mses.append(recs_via_users(utility, similarity_users, i+1, 100))\n",
    "    print(\"{}/50\".format(i+1), mses[-1])"
   ]
  },
  {
   "cell_type": "code",
   "execution_count": 51,
   "metadata": {},
   "outputs": [
    {
     "name": "stdout",
     "output_type": "stream",
     "text": [
      "10 loops, best of 3: 4.73 s per loop\n"
     ]
    }
   ],
   "source": [
    "%timeit -n 10 -r 3 recs_via_users(utility, similarity_users, 2, 100)"
   ]
  },
  {
   "cell_type": "code",
   "execution_count": 52,
   "metadata": {},
   "outputs": [
    {
     "name": "stdout",
     "output_type": "stream",
     "text": [
      "10 loops, best of 3: 4.83 s per loop\n"
     ]
    }
   ],
   "source": [
    "%timeit -n 10 -r 3 recs_via_users(utility, similarity_users, 20, 100)"
   ]
  },
  {
   "cell_type": "code",
   "execution_count": 53,
   "metadata": {},
   "outputs": [
    {
     "data": {
      "text/plain": [
       "[<matplotlib.lines.Line2D at 0x115d4f4e0>]"
      ]
     },
     "execution_count": 53,
     "metadata": {},
     "output_type": "execute_result"
    },
    {
     "data": {
      "image/png": "[encoded data removed]",
      "text/plain": [
       "<matplotlib.figure.Figure at 0x114ae2748>"
      ]
     },
     "metadata": {},
     "output_type": "display_data"
    }
   ],
   "source": [
    "plt.plot(ks, mses)"
   ]
  },
  {
   "cell_type": "markdown",
   "metadata": {},
   "source": [
    "TODO:\n",
    "1. Describe what is being done in the recs_via_users function - what is the evaluation approach? What would have been a more \"fair\" methodology?\n",
    "2. What do you notice happening as k increases?\n",
    "\n",
    "Answer: stops decreasing much, converging\n",
    "\n",
    "3. Based upon these results, what is a reasonable neighborhood size?\n",
    "\n",
    "Answer: around 6"
   ]
  },
  {
   "cell_type": "markdown",
   "metadata": {},
   "source": [
    "# G. Recommend via SVD"
   ]
  },
  {
   "cell_type": "code",
   "execution_count": 42,
   "metadata": {},
   "outputs": [
    {
     "name": "stdout",
     "output_type": "stream",
     "text": [
      "1/100 7.74736663055\n",
      "2/100 6.61002831758\n",
      "3/100 6.69830475868\n",
      "4/100 5.93326157042\n",
      "5/100 6.09860427627\n",
      "6/100 6.38261629051\n",
      "7/100 5.43443032806\n",
      "8/100 5.36750021995\n",
      "9/100 5.45322183861\n",
      "10/100 5.43443594347\n",
      "11/100 4.78831646654\n",
      "12/100 5.36483046439\n",
      "13/100 5.68029025621\n",
      "14/100 4.89187609506\n",
      "15/100 4.94779079348\n",
      "16/100 5.26914153052\n",
      "17/100 4.58554195573\n",
      "18/100 5.01852645025\n",
      "19/100 4.47604502941\n",
      "20/100 4.92531414602\n",
      "21/100 4.6113254764\n",
      "22/100 4.62835478323\n",
      "23/100 4.313030541\n",
      "24/100 4.97499465627\n",
      "25/100 4.28523432059\n",
      "26/100 4.43876101104\n",
      "27/100 4.31600534086\n",
      "28/100 4.29014308361\n",
      "29/100 4.37198962514\n",
      "30/100 4.30171834438\n",
      "31/100 4.0092911871\n",
      "32/100 3.91744960262\n",
      "33/100 4.14212171299\n",
      "34/100 3.93378023311\n",
      "35/100 3.94297492216\n",
      "36/100 4.05826544235\n",
      "37/100 3.7027260581\n",
      "38/100 3.77045352439\n",
      "39/100 4.06223246567\n",
      "40/100 3.78134008865\n",
      "41/100 3.90313069065\n",
      "42/100 3.61386986253\n",
      "43/100 3.66816143443\n",
      "44/100 3.44324700108\n",
      "45/100 3.61600836995\n",
      "46/100 3.54949784749\n",
      "47/100 3.49292322251\n",
      "48/100 3.84586956471\n",
      "49/100 3.51984647025\n",
      "50/100 3.8317031356\n",
      "51/100 3.7335918286\n",
      "52/100 3.15199729142\n",
      "53/100 4.00140778928\n",
      "54/100 3.29890169698\n",
      "55/100 3.7666919982\n",
      "56/100 3.47195935813\n",
      "57/100 3.38071792992\n",
      "58/100 3.30045442357\n",
      "59/100 3.10288244453\n",
      "60/100 3.20175042825\n",
      "61/100 3.26453907482\n",
      "62/100 3.18602140829\n",
      "63/100 3.17673061582\n",
      "64/100 3.09835606165\n",
      "65/100 3.09377941271\n",
      "66/100 3.32126743195\n",
      "67/100 2.98354708032\n",
      "68/100 3.11530202559\n",
      "69/100 3.23781125724\n",
      "70/100 3.0874217642\n",
      "71/100 3.179373583\n",
      "72/100 3.07076609123\n",
      "73/100 3.19924769141\n",
      "74/100 3.14079648759\n",
      "75/100 3.0064633404\n",
      "76/100 2.86305007562\n",
      "77/100 2.70731306466\n",
      "78/100 3.07231772346\n",
      "79/100 2.84544544512\n",
      "80/100 2.83548453151\n",
      "81/100 2.85405664875\n",
      "82/100 2.68732445382\n",
      "83/100 3.29008674064\n",
      "84/100 2.9744336566\n",
      "85/100 2.76067965801\n",
      "86/100 2.88623689461\n",
      "87/100 2.63441179352\n",
      "88/100 2.34742284937\n",
      "89/100 2.81619565188\n",
      "90/100 2.55015704724\n",
      "91/100 2.58896157722\n",
      "92/100 2.59362815001\n",
      "93/100 2.24654487668\n",
      "94/100 2.51829573906\n",
      "95/100 2.37631777087\n",
      "96/100 2.60829730262\n",
      "97/100 2.51228813529\n",
      "98/100 2.29776404269\n",
      "99/100 2.28169888257\n",
      "100/100 2.19478876782\n"
     ]
    }
   ],
   "source": [
    "random.seed(12345)\n",
    "\n",
    "# given a utility matrix and\n",
    "#       number of singular values to use\n",
    "# \n",
    "#       return a projected matrix\n",
    "#       based upon a limited number of dimensions\n",
    "#       U_pred = U S V^T\n",
    "# \n",
    "#       HINT: the svds function does most of the work for you\n",
    "def svd_projection(m_utility, num_dims):\n",
    "    svd_u,svd_s,svd_vt = svds(m_utility, num_dims)\n",
    "    return np.dot(svd_u, np.dot(np.diag(svd_s), svd_vt))\n",
    "\n",
    "def recs_via_svd(m_utility, num_dims, test_n):\n",
    "    test = random.sample(range(m_utility.shape[0]), test_n)    \n",
    "    svd_utility = svd_projection(utility, num_dims)\n",
    "    \n",
    "    true = []\n",
    "    pred = []\n",
    "    for user_idx in test:\n",
    "        for item_idx in range(m_utility.shape[1]):\n",
    "            if m_utility[user_idx][item_idx] != 0:\n",
    "                true.append(m_utility[user_idx][item_idx])\n",
    "                p = round(svd_utility[user_idx][item_idx])\n",
    "                \n",
    "                if p != 0:\n",
    "                    pred.append(p)\n",
    "                else:\n",
    "                    pred.append(1.0e-9)\n",
    "\n",
    "    return mse_utility(np.array([true], dtype=np.float64), np.array([pred], dtype=np.float64))\n",
    "    \n",
    "    \n",
    "ds = []\n",
    "mses = []\n",
    "for i in range(100):\n",
    "    ds.append(i+1)\n",
    "    mses.append(recs_via_svd(utility, i+1, 100))\n",
    "    print(\"{}/100\".format(i+1), mses[-1])"
   ]
  },
  {
   "cell_type": "code",
   "execution_count": 43,
   "metadata": {},
   "outputs": [
    {
     "name": "stdout",
     "output_type": "stream",
     "text": [
      "10 loops, best of 3: 230 ms per loop\n"
     ]
    }
   ],
   "source": [
    "%timeit -n 10 -r 3 recs_via_svd(utility, 10, 100)"
   ]
  },
  {
   "cell_type": "code",
   "execution_count": 44,
   "metadata": {},
   "outputs": [
    {
     "name": "stdout",
     "output_type": "stream",
     "text": [
      "10 loops, best of 3: 310 ms per loop\n"
     ]
    }
   ],
   "source": [
    "%timeit -n 10 -r 3 recs_via_svd(utility, 20, 100)"
   ]
  },
  {
   "cell_type": "code",
   "execution_count": 45,
   "metadata": {},
   "outputs": [
    {
     "name": "stdout",
     "output_type": "stream",
     "text": [
      "10 loops, best of 3: 500 ms per loop\n"
     ]
    }
   ],
   "source": [
    "%timeit -n 10 -r 3 recs_via_svd(utility, 40, 100)"
   ]
  },
  {
   "cell_type": "code",
   "execution_count": 46,
   "metadata": {},
   "outputs": [
    {
     "name": "stdout",
     "output_type": "stream",
     "text": [
      "10 loops, best of 3: 803 ms per loop\n"
     ]
    }
   ],
   "source": [
    "%timeit -n 10 -r 3 recs_via_svd(utility, 80, 100)"
   ]
  },
  {
   "cell_type": "code",
   "execution_count": 47,
   "metadata": {},
   "outputs": [
    {
     "data": {
      "text/plain": [
       "[<matplotlib.lines.Line2D at 0x1125c7518>]"
      ]
     },
     "execution_count": 47,
     "metadata": {},
     "output_type": "execute_result"
    },
    {
     "data": {
      "image/png": "[encoded data removed]",
      "text/plain": [
       "<matplotlib.figure.Figure at 0x114a89b70>"
      ]
     },
     "metadata": {},
     "output_type": "display_data"
    }
   ],
   "source": [
    "plt.plot(ds, mses)"
   ]
  },
  {
   "cell_type": "markdown",
   "metadata": {},
   "source": [
    "comment on the relative speed/quality of the SVD approach as compared to the neighborhood approach\n",
    "\n",
    "Answer: SVD is much faster and scales much better compared to the neighborhood approach as the SVD can approximate with gradient descent"
   ]
  },
  {
   "cell_type": "markdown",
   "metadata": {},
   "source": [
    "# H. TODO: Your Turn\n",
    "The previous sections explored some building blocks and methods of recommendation for the MovieLens dataset.\n",
    "In this section, you must extend this work:\n",
    "1. Implement a method that was not covered above (e.g. item-based neighborhood, direct matrix factorization) OR extend a method (e.g. incorporate rating bias)\n",
    "2. Evaluate your method similar to what was done above\n",
    "\n",
    "Do NOT change any code above - only add code/comment in this section (as many cells as you see fit). You are welcome to copy-paste code from above."
   ]
  },
  {
   "cell_type": "markdown",
   "metadata": {},
   "source": [
    "# I. Extra Credit\n",
    "If you so choose, create an actual recommendation engine using one of the supplied methods:\n",
    "1. Create a function that takes as input a dictionary of {movie_title:rating}, as well as a k, and your function should return the top k movies that have not been watched and have highest predicted ratings.\n",
    "2. Run the function on a few representative examples - analyze your results."
   ]
  }
 ],
 "metadata": {
  "kernelspec": {
   "display_name": "Python 3",
   "language": "python",
   "name": "python3"
  },
  "language_info": {
   "codemirror_mode": {
    "name": "ipython",
    "version": 3
   },
   "file_extension": ".py",
   "mimetype": "text/x-python",
   "name": "python",
   "nbconvert_exporter": "python",
   "pygments_lexer": "ipython3",
   "version": "3.6.1"
  }
 },
 "nbformat": 4,
 "nbformat_minor": 2
}
