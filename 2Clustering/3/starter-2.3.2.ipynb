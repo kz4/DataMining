{
 "cells": [
  {
   "cell_type": "markdown",
   "metadata": {},
   "source": [
    "# Imports (do NOT change/add)"
   ]
  },
  {
   "cell_type": "code",
   "execution_count": 1,
   "metadata": {
    "collapsed": true
   },
   "outputs": [],
   "source": [
    "import operator\n",
    "\n",
    "import csv\n",
    "import statistics as stats\n",
    "import math\n",
    "import random\n",
    "\n",
    "import matplotlib.pyplot as plt\n",
    "%matplotlib inline"
   ]
  },
  {
   "cell_type": "markdown",
   "metadata": {},
   "source": [
    "## 1. Load Wine Dataset\n",
    "Loading/analyzing a subset of the [wine dataset](http://archive.ics.uci.edu/ml/datasets/Wine)\n",
    "* Overlay histograms of the two features (alcohol, ascalinity)\n",
    "* Output count of points, as well as mean & sample standard deviation of the features"
   ]
  },
  {
   "cell_type": "code",
   "execution_count": 2,
   "metadata": {
    "collapsed": true
   },
   "outputs": [],
   "source": [
    "alcohol = []\n",
    "ascalinity = []\n",
    "\n",
    "with open('wine_data.csv', \"r\") as csvfile:\n",
    "    for row in csv.reader(csvfile):\n",
    "        alcohol.append(float(row[0]))\n",
    "        ascalinity.append(float(row[1]))\n",
    "        \n",
    "data = list(zip(alcohol, ascalinity))"
   ]
  },
  {
   "cell_type": "code",
   "execution_count": 3,
   "metadata": {},
   "outputs": [],
   "source": [
    "# TODO\n",
    "# 1. Overlay histograms of the two features (alcohol, ascalinity)\n",
    "# 2. Output count of points, as well as mean & sample standard deviation of the features"
   ]
  },
  {
   "cell_type": "markdown",
   "metadata": {},
   "source": [
    "# 2. Distance Metrics\n",
    "* Implement the sse function and the general minkowski distance function"
   ]
  },
  {
   "cell_type": "code",
   "execution_count": 4,
   "metadata": {
    "collapsed": true
   },
   "outputs": [],
   "source": [
    "# TODO\n",
    "# returns the sum-squared-error between two points\n",
    "def sse(x1, x2):\n",
    "    return 0"
   ]
  },
  {
   "cell_type": "code",
   "execution_count": 5,
   "metadata": {
    "collapsed": true
   },
   "outputs": [],
   "source": [
    "# TODO\n",
    "# returns the minkowski distance between x1 and x2\n",
    "def minkowski_distance(x1, x2, q):\n",
    "    return 0"
   ]
  },
  {
   "cell_type": "code",
   "execution_count": 6,
   "metadata": {
    "collapsed": true
   },
   "outputs": [],
   "source": [
    "# returns the L2 distance from x1 to x2\n",
    "def euclidean_distance(x1, x2):\n",
    "    return minkowski_distance(x1, x2, 2)"
   ]
  },
  {
   "cell_type": "code",
   "execution_count": 7,
   "metadata": {
    "collapsed": true
   },
   "outputs": [],
   "source": [
    "# returns the L1 distance from x1 to x2\n",
    "def manhattan_distance(x1, x2):\n",
    "    return minkowski_distance(x1, x2, 1)"
   ]
  },
  {
   "cell_type": "code",
   "execution_count": 8,
   "metadata": {},
   "outputs": [
    {
     "name": "stdout",
     "output_type": "stream",
     "text": [
      "SSE [0, 0] -> [3, 4] = 0.00000, expected=25.00000\n",
      "Euclidean [0, 0] -> [3, 4] = 0.00000, expected=5.00000\n",
      "Euclidean [3, 4] -> [0, 0] = 0.00000, expected=5.00000\n",
      "Manhattan [0, 0] -> [3, 4] = 0.00000, expected=7.00000\n",
      "Manhattan [3, 4] -> [0, 0] = 0.00000, expected=7.00000\n"
     ]
    }
   ],
   "source": [
    "t1 = [0,0]\n",
    "t2 = [3,4]\n",
    "\n",
    "print(\"SSE {} -> {} = {:.5f}, expected={:.5f}\".format(t1, t2, sse(t1, t2), 25.))\n",
    "\n",
    "print(\"Euclidean {} -> {} = {:.5f}, expected={:.5f}\".format(t1, t2, euclidean_distance(t1, t2), 5.))\n",
    "print(\"Euclidean {} -> {} = {:.5f}, expected={:.5f}\".format(t2, t1, euclidean_distance(t2, t1), 5.))\n",
    "\n",
    "print(\"Manhattan {} -> {} = {:.5f}, expected={:.5f}\".format(t1, t2, manhattan_distance(t1, t2), 7.))\n",
    "print(\"Manhattan {} -> {} = {:.5f}, expected={:.5f}\".format(t2, t1, manhattan_distance(t2, t1), 7.))"
   ]
  },
  {
   "cell_type": "markdown",
   "metadata": {},
   "source": [
    "# 3. K-Means\n",
    "* Implement choose_cluster (find the closest centroid w.r.t. a distance metric)\n",
    "* Implement k-means\n",
    "* Respond to a question regarding plotted clusterings"
   ]
  },
  {
   "cell_type": "code",
   "execution_count": 9,
   "metadata": {
    "collapsed": true
   },
   "outputs": [],
   "source": [
    "# TODO\n",
    "# Inputs: centroid locations, point, distance metric\n",
    "# Outputs: centroid index that is closest\n",
    "def choose_cluster(centroids, x, distance_metric):\n",
    "    return 0"
   ]
  },
  {
   "cell_type": "code",
   "execution_count": 10,
   "metadata": {
    "collapsed": true
   },
   "outputs": [],
   "source": [
    "# TODO\n",
    "# Inputs: \n",
    "#  initial_centroids: locations (length=K)\n",
    "#  data: data points (length=N)\n",
    "#  distance_metric: how to select the closest point in the e-step\n",
    "# \n",
    "# Outputs:\n",
    "#  centroids: locations (length=K)\n",
    "#  new_clusters: for each data point, index of associated cluster\n",
    "#  iterations: count of iterations taken\n",
    "#  total_sse: SSE of final clustering\n",
    "def kmeans(initial_centroids, data, distance_metric):\n",
    "    centroids = initial_centroids[:]\n",
    "    new_clusters = [-1] * len(data)\n",
    "    iterations = 0\n",
    "    total_sse = 0\n",
    "        \n",
    "    return centroids, new_clusters, iterations, total_sse"
   ]
  },
  {
   "cell_type": "code",
   "execution_count": 11,
   "metadata": {
    "collapsed": true
   },
   "outputs": [],
   "source": [
    "def cluster_plot(centroids, data, clustering):\n",
    "    for i,c in enumerate(centroids):\n",
    "        points = [data[idx] for idx,c in enumerate(clustering) if c == i]\n",
    "        plt.scatter([d[0] for d in points], [d[1] for d in points], label=\"{}\".format(i))\n",
    "        plt.plot(c[0], c[1], 'kx', mew=5, ms=10)"
   ]
  },
  {
   "cell_type": "code",
   "execution_count": 12,
   "metadata": {
    "collapsed": true
   },
   "outputs": [],
   "source": [
    "initial_centroids = [data[175], data[25], data[67]]"
   ]
  },
  {
   "cell_type": "code",
   "execution_count": 13,
   "metadata": {},
   "outputs": [
    {
     "data": {
      "image/png": "[encoded data removed]",
      "text/plain": [
       "<matplotlib.figure.Figure at 0x115b68278>"
      ]
     },
     "metadata": {},
     "output_type": "display_data"
    }
   ],
   "source": [
    "centroids, clustering, _, _ = kmeans(initial_centroids, data, euclidean_distance)\n",
    "cluster_plot(centroids, data, clustering)"
   ]
  },
  {
   "cell_type": "code",
   "execution_count": 14,
   "metadata": {},
   "outputs": [
    {
     "data": {
      "image/png": "[encoded data removed]",
      "text/plain": [
       "<matplotlib.figure.Figure at 0x115b5cba8>"
      ]
     },
     "metadata": {},
     "output_type": "display_data"
    }
   ],
   "source": [
    "centroids, clustering, _, _ = kmeans(initial_centroids, data, manhattan_distance)\n",
    "cluster_plot(centroids, data, clustering)"
   ]
  },
  {
   "cell_type": "code",
   "execution_count": 15,
   "metadata": {},
   "outputs": [
    {
     "data": {
      "image/png": "[encoded data removed]",
      "text/plain": [
       "<matplotlib.figure.Figure at 0x116262e10>"
      ]
     },
     "metadata": {},
     "output_type": "display_data"
    }
   ],
   "source": [
    "centroids, clustering, _, _ = kmeans(initial_centroids, data, lambda x,y: minkowski_distance(x, y, 3))\n",
    "cluster_plot(centroids, data, clustering)"
   ]
  },
  {
   "cell_type": "markdown",
   "metadata": {},
   "source": [
    "## Q: What conclusion can you draw from these plots?\n",
    "TODO: respond here"
   ]
  },
  {
   "cell_type": "markdown",
   "metadata": {},
   "source": [
    "# 4. Choosing K\n",
    "* Runs several trials of K-Means with different initial points (Forgy), recording SSE\n",
    "* Plot SSE vs K\n",
    "* Respond to the question below"
   ]
  },
  {
   "cell_type": "code",
   "execution_count": 16,
   "metadata": {},
   "outputs": [
    {
     "data": {
      "text/plain": [
       "<matplotlib.text.Text at 0x116397438>"
      ]
     },
     "execution_count": 16,
     "metadata": {},
     "output_type": "execute_result"
    },
    {
     "data": {
      "image/png": "[encoded data removed]",
      "text/plain": [
       "<matplotlib.figure.Figure at 0x11613e9e8>"
      ]
     },
     "metadata": {},
     "output_type": "display_data"
    }
   ],
   "source": [
    "max_clusters = 10\n",
    "trials = 5\n",
    "\n",
    "clusters = []\n",
    "sses = []\n",
    "\n",
    "random.seed(8675309)\n",
    "\n",
    "# TODO\n",
    "# 1. Perform 5 trials (randomizing initial points ala Forgy) for each of K=1, 2, ... 10\n",
    "# 2. Plot SSE vs K\n",
    "    \n",
    "plt.plot(clusters, sses)\n",
    "plt.xticks(range(1, len(clusters)+1, 1))\n",
    "plt.title('SSE vs Clusters')"
   ]
  },
  {
   "cell_type": "markdown",
   "metadata": {},
   "source": [
    "## Q: What is a reasonable value for K based upon this data -- why?\n",
    "TODO: respond here"
   ]
  }
 ],
 "metadata": {
  "kernelspec": {
   "display_name": "Python 3",
   "language": "python",
   "name": "python3"
  },
  "language_info": {
   "codemirror_mode": {
    "name": "ipython",
    "version": 3
   },
   "file_extension": ".py",
   "mimetype": "text/x-python",
   "name": "python",
   "nbconvert_exporter": "python",
   "pygments_lexer": "ipython3",
   "version": "3.5.4"
  }
 },
 "nbformat": 4,
 "nbformat_minor": 2
}
