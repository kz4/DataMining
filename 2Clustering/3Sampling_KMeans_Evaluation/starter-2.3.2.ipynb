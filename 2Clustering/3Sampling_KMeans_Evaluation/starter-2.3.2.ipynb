{
 "cells": [
  {
   "cell_type": "markdown",
   "metadata": {},
   "source": [
    "# Imports (do NOT change/add)"
   ]
  },
  {
   "cell_type": "code",
   "execution_count": 1,
   "metadata": {
    "collapsed": true
   },
   "outputs": [],
   "source": [
    "import operator\n",
    "\n",
    "import csv\n",
    "import statistics as stats\n",
    "import math\n",
    "import random\n",
    "\n",
    "import matplotlib.pyplot as plt\n",
    "%matplotlib inline"
   ]
  },
  {
   "cell_type": "markdown",
   "metadata": {},
   "source": [
    "## 1. Load Wine Dataset\n",
    "Loading/analyzing a subset of the [wine dataset](http://archive.ics.uci.edu/ml/datasets/Wine)\n",
    "* Overlay histograms of the two features (alcohol, ascalinity)\n",
    "* Output count of points, as well as mean & sample standard deviation of the features"
   ]
  },
  {
   "cell_type": "code",
   "execution_count": 2,
   "metadata": {
    "collapsed": true
   },
   "outputs": [],
   "source": [
    "alcohol = []\n",
    "ascalinity = []\n",
    "\n",
    "with open('wine_data.csv', \"r\") as csvfile:\n",
    "    for row in csv.reader(csvfile):\n",
    "        alcohol.append(float(row[0]))\n",
    "        ascalinity.append(float(row[1]))\n",
    "        \n",
    "data = list(zip(alcohol, ascalinity))"
   ]
  },
  {
   "cell_type": "code",
   "execution_count": 3,
   "metadata": {},
   "outputs": [
    {
     "data": {
      "image/png": "[encoded data removed]",
      "text/plain": [
       "<matplotlib.figure.Figure at 0x10d368e10>"
      ]
     },
     "metadata": {},
     "output_type": "display_data"
    }
   ],
   "source": [
    "# 1. Overlay histograms of the two features (alcohol, ascalinity)\n",
    "# 2. Output count of points, as well as mean & sample standard deviation of the features\n",
    "# publications_per_author_lst = [len(author_publications[author]) for author in author_publications if author]\n",
    "bins = range(10, 31, 1)\n",
    "plt.xlabel('Number of features')\n",
    "plt.ylabel('Count of points')\n",
    "plt.title('Histogram of alcohol and ascalinity')\n",
    "plt.hist([d[0] for d in data], bins=bins, color='blue', label='alcohol', alpha=0.5)\n",
    "plt.hist([d[1] for d in data], bins=bins, color='salmon', label='ascalinity', alpha=0.5)\n",
    "plt.legend(loc='upper right')\n",
    "plt.show()"
   ]
  },
  {
   "cell_type": "markdown",
   "metadata": {},
   "source": [
    "# 2. Distance Metrics\n",
    "* Implement the sse function and the general minkowski distance function"
   ]
  },
  {
   "cell_type": "code",
   "execution_count": 4,
   "metadata": {
    "collapsed": true
   },
   "outputs": [],
   "source": [
    "# returns the sum-squared-error between two points\n",
    "def sse(x1, x2):\n",
    "    return sum([(x-y)**2 for x, y in zip(x1, x2)])"
   ]
  },
  {
   "cell_type": "code",
   "execution_count": 5,
   "metadata": {
    "collapsed": true
   },
   "outputs": [],
   "source": [
    "# returns the minkowski distance between x1 and x2\n",
    "def minkowski_distance(x1, x2, q):\n",
    "    return (sum([abs(x-y)**q for x, y in zip(x1, x2)]))**(1/q)"
   ]
  },
  {
   "cell_type": "code",
   "execution_count": 6,
   "metadata": {
    "collapsed": true
   },
   "outputs": [],
   "source": [
    "# returns the L2 distance from x1 to x2\n",
    "def euclidean_distance(x1, x2):\n",
    "    return minkowski_distance(x1, x2, 2)"
   ]
  },
  {
   "cell_type": "code",
   "execution_count": 7,
   "metadata": {
    "collapsed": true
   },
   "outputs": [],
   "source": [
    "# returns the L1 distance from x1 to x2\n",
    "def manhattan_distance(x1, x2):\n",
    "    return minkowski_distance(x1, x2, 1)"
   ]
  },
  {
   "cell_type": "code",
   "execution_count": 8,
   "metadata": {},
   "outputs": [
    {
     "name": "stdout",
     "output_type": "stream",
     "text": [
      "SSE [0, 0] -> [3, 4] = 25.00000, expected=25.00000\n",
      "Euclidean [0, 0] -> [3, 4] = 5.00000, expected=5.00000\n",
      "Euclidean [3, 4] -> [0, 0] = 5.00000, expected=5.00000\n",
      "Manhattan [0, 0] -> [3, 4] = 7.00000, expected=7.00000\n",
      "Manhattan [3, 4] -> [0, 0] = 7.00000, expected=7.00000\n"
     ]
    }
   ],
   "source": [
    "t1 = [0,0]\n",
    "t2 = [3,4]\n",
    "\n",
    "print(\"SSE {} -> {} = {:.5f}, expected={:.5f}\".format(t1, t2, sse(t1, t2), 25.))\n",
    "\n",
    "print(\"Euclidean {} -> {} = {:.5f}, expected={:.5f}\".format(t1, t2, euclidean_distance(t1, t2), 5.))\n",
    "print(\"Euclidean {} -> {} = {:.5f}, expected={:.5f}\".format(t2, t1, euclidean_distance(t2, t1), 5.))\n",
    "\n",
    "print(\"Manhattan {} -> {} = {:.5f}, expected={:.5f}\".format(t1, t2, manhattan_distance(t1, t2), 7.))\n",
    "print(\"Manhattan {} -> {} = {:.5f}, expected={:.5f}\".format(t2, t1, manhattan_distance(t2, t1), 7.))"
   ]
  },
  {
   "cell_type": "markdown",
   "metadata": {},
   "source": [
    "# 3. K-Means\n",
    "* Implement choose_cluster (find the closest centroid w.r.t. a distance metric)\n",
    "* Implement k-means\n",
    "* Respond to a question regarding plotted clusterings"
   ]
  },
  {
   "cell_type": "code",
   "execution_count": 9,
   "metadata": {
    "collapsed": true
   },
   "outputs": [],
   "source": [
    "# Inputs: centroid locations, point, distance metric\n",
    "# Outputs: centroid index that is closest\n",
    "def choose_cluster(centroids, x, distance_metric):\n",
    "#     dist_index = {distance_metric(x, x2) : i for i, x2 in enumerate(centroids)}\n",
    "#     minValue = min([distance_metric(x, x2) for i, x2 in enumerate(centroids)])\n",
    "#     return dist_index[minValue]\n",
    "    return min({i:distance_metric(x, c) for i, c in enumerate(centroids)}.items(), key=operator.itemgetter(1))[0]"
   ]
  },
  {
   "cell_type": "code",
   "execution_count": 10,
   "metadata": {
    "collapsed": true
   },
   "outputs": [],
   "source": [
    "def compute_averge_point(points):\n",
    "    return (sum([x for x, y in points])/len(points), sum([y for x, y in points])/len(points))"
   ]
  },
  {
   "cell_type": "code",
   "execution_count": 11,
   "metadata": {
    "collapsed": true
   },
   "outputs": [],
   "source": [
    "def recompute_centroids(new_clusters, data):\n",
    "    cluster_points = {}\n",
    "    for centroid_index, point in zip(new_clusters, data):\n",
    "        if centroid_index not in cluster_points:\n",
    "            cluster_points[centroid_index] = [point]\n",
    "        else:\n",
    "            cluster_points[centroid_index].append(point)\n",
    "    new_centroids = [compute_averge_point(points) for points in cluster_points.values()]\n",
    "    return new_centroids"
   ]
  },
  {
   "cell_type": "code",
   "execution_count": 12,
   "metadata": {
    "collapsed": true
   },
   "outputs": [],
   "source": [
    "def is_converged(old_centroids, new_centroids):\n",
    "    return all([x1[0] == x2[0] and x1[1] == x2[1] for x1, x2 in zip(old_centroids, new_centroids)])"
   ]
  },
  {
   "cell_type": "code",
   "execution_count": 13,
   "metadata": {
    "collapsed": true
   },
   "outputs": [],
   "source": [
    "# Inputs: \n",
    "#  initial_centroids: locations (length=K)\n",
    "#  data: data points (length=N)\n",
    "#  distance_metric: how to select the closest point in the e-step\n",
    "# \n",
    "# Outputs:\n",
    "#  centroids: locations (length=K)\n",
    "#  new_clusters: for each data point, index of associated cluster\n",
    "#  iterations: count of iterations taken\n",
    "#  total_sse: SSE of final clustering\n",
    "def kmeans(initial_centroids, data, distance_metric):\n",
    "    centroids = initial_centroids[:]\n",
    "    last_centroids = centroids\n",
    "    new_clusters = [-1] * len(data)\n",
    "    iterations = 0\n",
    "    while not is_converged(last_centroids, centroids) or iterations == 0:\n",
    "        iterations += 1\n",
    "        new_clusters = [choose_cluster(centroids, x, distance_metric) for x in data]\n",
    "        last_centroids = centroids\n",
    "        centroids = recompute_centroids(new_clusters, data)\n",
    "#         print(new_clusters)\n",
    "    total_sse = sum([sse(centroids[cluster_index], x2) for cluster_index, x2 in zip(new_clusters, data)])\n",
    "#     print('total_sse: ', total_sse) # total_sse:  519.0803744318184\n",
    "    return centroids, new_clusters, iterations, total_sse"
   ]
  },
  {
   "cell_type": "code",
   "execution_count": 14,
   "metadata": {
    "collapsed": true
   },
   "outputs": [],
   "source": [
    "def cluster_plot(centroids, data, clustering):\n",
    "    for i,c in enumerate(centroids):\n",
    "        points = [data[idx] for idx,c in enumerate(clustering) if c == i]\n",
    "        plt.scatter([d[0] for d in points], [d[1] for d in points], label=\"{}\".format(i))\n",
    "        plt.plot(c[0], c[1], 'kx', mew=5, ms=10)"
   ]
  },
  {
   "cell_type": "code",
   "execution_count": 15,
   "metadata": {
    "collapsed": true
   },
   "outputs": [],
   "source": [
    "initial_centroids = [data[175], data[25], data[67]]"
   ]
  },
  {
   "cell_type": "code",
   "execution_count": 16,
   "metadata": {},
   "outputs": [
    {
     "data": {
      "image/png": "[encoded data removed]",
      "text/plain": [
       "<matplotlib.figure.Figure at 0x1107c56d8>"
      ]
     },
     "metadata": {},
     "output_type": "display_data"
    }
   ],
   "source": [
    "centroids, clustering, _, _ = kmeans(initial_centroids, data, euclidean_distance)\n",
    "cluster_plot(centroids, data, clustering)"
   ]
  },
  {
   "cell_type": "code",
   "execution_count": 17,
   "metadata": {},
   "outputs": [
    {
     "data": {
      "image/png": "[encoded data removed]",
      "text/plain": [
       "<matplotlib.figure.Figure at 0x10550f358>"
      ]
     },
     "metadata": {},
     "output_type": "display_data"
    }
   ],
   "source": [
    "centroids, clustering, _, _ = kmeans(initial_centroids, data, manhattan_distance)\n",
    "cluster_plot(centroids, data, clustering)"
   ]
  },
  {
   "cell_type": "code",
   "execution_count": 18,
   "metadata": {},
   "outputs": [
    {
     "data": {
      "image/png": "[encoded data removed]",
      "text/plain": [
       "<matplotlib.figure.Figure at 0x1107cc908>"
      ]
     },
     "metadata": {},
     "output_type": "display_data"
    }
   ],
   "source": [
    "centroids, clustering, _, _ = kmeans(initial_centroids, data, lambda x,y: minkowski_distance(x, y, 3))\n",
    "cluster_plot(centroids, data, clustering)"
   ]
  },
  {
   "cell_type": "markdown",
   "metadata": {},
   "source": [
    "## Q: What conclusion can you draw from these plots?\n",
    "Due to the different distance mechanism being used, the clustering is different and therefore resulting different plot in terms of color direction. Overall clustering is same"
   ]
  },
  {
   "cell_type": "markdown",
   "metadata": {},
   "source": [
    "# 4. Choosing K\n",
    "* Runs several trials of K-Means with different initial points (Forgy), recording SSE\n",
    "* Plot SSE vs K\n",
    "* Respond to the question below"
   ]
  },
  {
   "cell_type": "code",
   "execution_count": 19,
   "metadata": {},
   "outputs": [
    {
     "data": {
      "text/plain": [
       "<matplotlib.text.Text at 0x110c655c0>"
      ]
     },
     "execution_count": 19,
     "metadata": {},
     "output_type": "execute_result"
    },
    {
     "data": {
      "image/png": "[encoded data removed]",
      "text/plain": [
       "<matplotlib.figure.Figure at 0x110c27a58>"
      ]
     },
     "metadata": {},
     "output_type": "display_data"
    }
   ],
   "source": [
    "max_clusters = 10\n",
    "trials = 5\n",
    "\n",
    "clusters = []\n",
    "sses = []\n",
    "\n",
    "random.seed(8675309)\n",
    "\n",
    "# 1. Perform 5 trials (randomizing initial points ala Forgy) for each of K=1, 2, ... 10\n",
    "# 2. Plot SSE vs K\n",
    "clusters = []\n",
    "sses = []\n",
    "for i in range(trials):\n",
    "    for k in range(1, max_clusters+1):\n",
    "        initial_centroids = [data[random.randint(0, 177)] for m in range(k)]\n",
    "        _, _, _, squared_errors = kmeans(initial_centroids, data, euclidean_distance)\n",
    "        if i == 0:\n",
    "            clusters.append(k)\n",
    "            sses.append(squared_errors)\n",
    "        else:\n",
    "            sses[k-1] += squared_errors\n",
    "sses = [sse/trials for sse in sses]\n",
    "plt.xlabel('Number of Clusters')\n",
    "plt.ylabel('SSE')\n",
    "plt.plot(clusters, sses)\n",
    "plt.xticks(range(1, len(clusters)+1, 1))\n",
    "plt.title('SSE vs Clusters')"
   ]
  },
  {
   "cell_type": "markdown",
   "metadata": {},
   "source": [
    "## Q: What is a reasonable value for K based upon this data -- why?\n",
    "3, with the increase of number of clusters, the decrease of SSE is much smaller - the elbow point"
   ]
  }
 ],
 "metadata": {
  "kernelspec": {
   "display_name": "Python 3",
   "language": "python",
   "name": "python3"
  },
  "language_info": {
   "codemirror_mode": {
    "name": "ipython",
    "version": 3
   },
   "file_extension": ".py",
   "mimetype": "text/x-python",
   "name": "python",
   "nbconvert_exporter": "python",
   "pygments_lexer": "ipython3",
   "version": "3.6.1"
  }
 },
 "nbformat": 4,
 "nbformat_minor": 2
}
