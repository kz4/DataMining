{
 "cells": [
  {
   "cell_type": "code",
   "execution_count": 25,
   "metadata": {
    "collapsed": true
   },
   "outputs": [],
   "source": [
    "import sys\n",
    "from collections import defaultdict"
   ]
  },
  {
   "cell_type": "code",
   "execution_count": 26,
   "metadata": {},
   "outputs": [],
   "source": [
    "path = 'wt2g_inlinks.txt'\n",
    "link_inlinks = {}\n",
    "link_outlinkcount = defaultdict(int)\n",
    "all_links = set()"
   ]
  },
  {
   "cell_type": "markdown",
   "metadata": {},
   "source": [
    "## Read File"
   ]
  },
  {
   "cell_type": "code",
   "execution_count": 27,
   "metadata": {},
   "outputs": [],
   "source": [
    "with open(path, 'rt') as f:\n",
    "    data = f.readlines()\n",
    "    i = 0\n",
    "    for row in data:\n",
    "        links = row.split()\n",
    "        link = links[0]\n",
    "        link_inlinks[link] = set(links[1:])\n",
    "        for l in links[1:]:\n",
    "            link_outlinkcount[l] += 1 \n",
    "        \n",
    "        i += 1\n",
    "        \n",
    "        if i == 5:\n",
    "            break\n",
    "all_links = link_inlinks.keys()"
   ]
  },
  {
   "cell_type": "markdown",
   "metadata": {},
   "source": [
    "## Retrieve Sink Links"
   ]
  },
  {
   "cell_type": "code",
   "execution_count": 28,
   "metadata": {
    "collapsed": true
   },
   "outputs": [],
   "source": [
    "sink_links = set()"
   ]
  },
  {
   "cell_type": "code",
   "execution_count": 29,
   "metadata": {
    "collapsed": true
   },
   "outputs": [],
   "source": [
    "outLinks = link_outlinkcount.keys();\n",
    "sink_links = [link for link in link_inlinks.keys() if link not in outLinks]"
   ]
  },
  {
   "cell_type": "markdown",
   "metadata": {},
   "source": [
    "## Calculate Page Rank"
   ]
  },
  {
   "cell_type": "code",
   "execution_count": 30,
   "metadata": {
    "collapsed": true
   },
   "outputs": [],
   "source": [
    "link_size = len(all_links)\n",
    "link_score = {}\n",
    "link_score_previous = {}"
   ]
  },
  {
   "cell_type": "code",
   "execution_count": 33,
   "metadata": {},
   "outputs": [],
   "source": [
    "# Initialize all the score to 1/n\n",
    "link_score = { link : 1 / link_size for link in all_links }\n",
    "\n",
    "# all_links might miss a couple links\n",
    "for link in link_inlinks.keys():\n",
    "    for inlink in link_inlinks[link]:\n",
    "        link_score[inlink] = 1 / link_size"
   ]
  }
 ],
 "metadata": {
  "kernelspec": {
   "display_name": "Python 3",
   "language": "python",
   "name": "python3"
  },
  "language_info": {
   "codemirror_mode": {
    "name": "ipython",
    "version": 3
   },
   "file_extension": ".py",
   "mimetype": "text/x-python",
   "name": "python",
   "nbconvert_exporter": "python",
   "pygments_lexer": "ipython3",
   "version": "3.6.1"
  }
 },
 "nbformat": 4,
 "nbformat_minor": 2
}
