{
 "cells": [
  {
   "cell_type": "markdown",
   "metadata": {},
   "source": [
    "# Page Rank"
   ]
  },
  {
   "cell_type": "raw",
   "metadata": {},
   "source": [
    "// P is the set of all pages; |P| = N<br>\n",
    "// S is the set of sink nodes, i.e., pages that have no out links<br>\n",
    "// M(p) is the set of pages that link to page p<br>\n",
    "// L(q) is the number of out-links from page q<br>\n",
    "// d is the PageRank damping/teleportation factor; use d = 0.85 as is typical<br>\n",
    "\n",
    "foreach page p in P\n",
    "  PR(p) = 1/N                          /* initial value */\n",
    "\n",
    "while PageRank has not converged do\n",
    "  sinkPR = 0\n",
    "  foreach page p in S                  /* calculate total sink PR */\n",
    "    sinkPR += PR(p)\n",
    "  foreach page p in P\n",
    "    newPR(p) = (1-d)/N                 /* teleportation */\n",
    "    newPR(p) += d*sinkPR/N             /* spread remaining sink PR evenly */\n",
    "    foreach page q in M(p)             /* pages pointing to p */\n",
    "      newPR(p) += d*PR(q)/L(q)         /* add share of PageRank from in-links */\n",
    "  foreach page p\n",
    "    PR(p) = newPR(p)\n",
    " \n",
    "return PR"
   ]
  },
  {
   "cell_type": "code",
   "execution_count": null,
   "metadata": {
    "collapsed": true
   },
   "outputs": [],
   "source": [
    "import sys\n",
    "from collections import defaultdict"
   ]
  },
  {
   "cell_type": "code",
   "execution_count": null,
   "metadata": {},
   "outputs": [],
   "source": [
    "path = 'wt2g_inlinks.txt'\n",
    "link_inlinks = {}\n",
    "link_outlinkcount = defaultdict(int)\n",
    "all_links = set()"
   ]
  },
  {
   "cell_type": "markdown",
   "metadata": {},
   "source": [
    "### Read File"
   ]
  },
  {
   "cell_type": "code",
   "execution_count": null,
   "metadata": {},
   "outputs": [],
   "source": [
    "with open(path, 'rt') as f:\n",
    "    data = f.readlines()\n",
    "    i = 0\n",
    "    for row in data:\n",
    "        links = row.split()\n",
    "#         all_links |= set(links)\n",
    "        link = links[0]\n",
    "        link_inlinks[link] = set(links[1:])\n",
    "        for l in links[1:]:\n",
    "            link_outlinkcount[l] += 1 \n",
    "        \n",
    "        i += 1\n",
    "        \n",
    "        if i == 5:\n",
    "            break\n",
    "all_links = link_inlinks.keys()"
   ]
  },
  {
   "cell_type": "markdown",
   "metadata": {},
   "source": [
    "### Retrieve Sink Links"
   ]
  },
  {
   "cell_type": "code",
   "execution_count": null,
   "metadata": {
    "collapsed": true
   },
   "outputs": [],
   "source": [
    "sink_links = set()"
   ]
  },
  {
   "cell_type": "code",
   "execution_count": null,
   "metadata": {
    "collapsed": true
   },
   "outputs": [],
   "source": [
    "outLinks = link_outlinkcount.keys();\n",
    "sink_links = [link for link in link_inlinks.keys() if link not in outLinks]"
   ]
  },
  {
   "cell_type": "markdown",
   "metadata": {},
   "source": [
    "### Calculate Page Rank"
   ]
  },
  {
   "cell_type": "code",
   "execution_count": null,
   "metadata": {},
   "outputs": [],
   "source": [
    "link_size = len(all_links)\n",
    "link_score = {}\n",
    "link_score_previous = {}\n",
    "link_damping = 0.85"
   ]
  },
  {
   "cell_type": "code",
   "execution_count": null,
   "metadata": {},
   "outputs": [],
   "source": [
    "def is_converged(counter):\n",
    "    if counter == 1:\n",
    "        return False\n",
    "    tot = sum([(link_score[link] - link_score_previous[link])**2 for link in link_score.keys()])**(1/2)\n",
    "    return tot <= 10 ** (-5)"
   ]
  },
  {
   "cell_type": "code",
   "execution_count": null,
   "metadata": {},
   "outputs": [],
   "source": [
    "# Initialize all the score to 1/n\n",
    "link_score = { link : 1 / link_size for link in all_links }\n",
    "\n",
    "# all_links might miss a couple links\n",
    "for link in link_inlinks.keys():\n",
    "    for inlink in link_inlinks[link]:\n",
    "        link_score[inlink] = 1 / link_size\n",
    "print(link_score)\n",
    "\n",
    "counter = 1\n",
    "while not is_converged(counter):\n",
    "    link_score_previous = link_score\n",
    "    sinkPR = sum([link_score[link] for link in link_score.keys()])\n",
    "    newPR = {}\n",
    "    for link in all_links:\n",
    "        newPR[link] = (1 - link_damping) / link_size + link_damping * sinkPR / link_size\n",
    "        for inlink in link_inlinks[link]:\n",
    "            newPR[link] += link_damping * link_score[inlink] / link_outlinkcount[inlink]\n",
    "    sum_score = sum(newPR.values())\n",
    "    link_score = { link : newPR[link] / sum_score for link in newPR.keys() }\n",
    "            \n",
    "    counter += 1\n",
    "    if counter == 100:\n",
    "        break"
   ]
  }
 ],
 "metadata": {
  "kernelspec": {
   "display_name": "Python 3",
   "language": "python",
   "name": "python3"
  },
  "language_info": {
   "codemirror_mode": {
    "name": "ipython",
    "version": 3
   },
   "file_extension": ".py",
   "mimetype": "text/x-python",
   "name": "python",
   "nbconvert_exporter": "python",
   "pygments_lexer": "ipython3",
   "version": "3.6.1"
  }
 },
 "nbformat": 4,
 "nbformat_minor": 2
}
